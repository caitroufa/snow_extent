{
  "nbformat": 4,
  "nbformat_minor": 0,
  "metadata": {
    "colab": {
      "provenance": []
    },
    "kernelspec": {
      "name": "python3",
      "display_name": "Python 3"
    },
    "language_info": {
      "name": "python"
    },
    "widgets": {
      "application/vnd.jupyter.widget-state+json": {
        "43aa8cf1cbb84a8b833c7a560f47ab10": {
          "model_module": "jupyter-leaflet",
          "model_name": "LeafletMapModel",
          "model_module_version": "^0.19",
          "state": {
            "_dom_classes": [],
            "_model_module": "jupyter-leaflet",
            "_model_module_version": "^0.19",
            "_model_name": "LeafletMapModel",
            "_view_count": null,
            "_view_module": "jupyter-leaflet",
            "_view_module_version": "^0.19",
            "_view_name": "LeafletMapView",
            "bottom": 12693,
            "bounce_at_zoom_limits": true,
            "box_zoom": true,
            "center": [
              40.100277314394525,
              -89.14995333122563
            ],
            "close_popup_on_click": true,
            "controls": [
              "IPY_MODEL_f55fd77cc78e415f80a6fa75bd7c4359",
              "IPY_MODEL_64cf9eb8c3504239ab031a6b4d97635a",
              "IPY_MODEL_6caa82afa5d84aee970cd317ca547465",
              "IPY_MODEL_a958f3279cfe4796b5bcbc44b7b749ab",
              "IPY_MODEL_3678962a2e7c40b5ae721d004aabf663",
              "IPY_MODEL_d028e1972b644230ba442c26d23a0e5b",
              "IPY_MODEL_a266c870db994093ae6e4b64db2fe86d",
              "IPY_MODEL_de50513ddb904bf690b4bc14df8608c0",
              "IPY_MODEL_b193850dc87d43e0b565031837b7787c",
              "IPY_MODEL_4bbfcf30fb26415eb8c76405d8a74612"
            ],
            "crs": {
              "name": "EPSG3857",
              "custom": false
            },
            "default_style": "IPY_MODEL_8e9cd3802cb34a92970a7d25638d1cee",
            "double_click_zoom": true,
            "dragging": true,
            "dragging_style": "IPY_MODEL_835146c1ece84648a965587db310207e",
            "east": -81.63940429687501,
            "fullscreen": false,
            "inertia": true,
            "inertia_deceleration": 3000,
            "inertia_max_speed": 1500,
            "interpolation": "bilinear",
            "keyboard": true,
            "keyboard_pan_offset": 80,
            "keyboard_zoom_offset": 1,
            "layers": [
              "IPY_MODEL_947b31da34344943ba219f62dd6ccec9",
              "IPY_MODEL_51516b475dde47c9a730a39b99bbf720"
            ],
            "layout": "IPY_MODEL_a4cb0452dcb64fe0a901964e1ca18272",
            "left": 7585,
            "max_zoom": 24,
            "min_zoom": null,
            "modisdate": "2025-04-06",
            "north": 42.577354839557856,
            "options": [
              "bounce_at_zoom_limits",
              "box_zoom",
              "center",
              "close_popup_on_click",
              "double_click_zoom",
              "dragging",
              "fullscreen",
              "inertia",
              "inertia_deceleration",
              "inertia_max_speed",
              "interpolation",
              "keyboard",
              "keyboard_pan_offset",
              "keyboard_zoom_offset",
              "max_zoom",
              "min_zoom",
              "prefer_canvas",
              "scroll_wheel_zoom",
              "tap",
              "tap_tolerance",
              "touch_zoom",
              "world_copy_jump",
              "zoom",
              "zoom_animation_threshold",
              "zoom_delta",
              "zoom_snap"
            ],
            "panes": {},
            "prefer_canvas": false,
            "right": 8953,
            "scroll_wheel_zoom": true,
            "south": 37.53586597792038,
            "style": "IPY_MODEL_715398106c874f659e2b33be9ec89828",
            "tap": true,
            "tap_tolerance": 15,
            "top": 12093,
            "touch_zoom": true,
            "west": -96.66870117187501,
            "window_url": "https://9cp270r21y7-496ff2e9c6d22116-0-colab.googleusercontent.com/outputframe.html?vrz=colab_20250403-060103_RC00_743508425",
            "world_copy_jump": false,
            "zoom": 7,
            "zoom_animation_threshold": 4,
            "zoom_delta": 1,
            "zoom_snap": 1
          }
        },
        "f55fd77cc78e415f80a6fa75bd7c4359": {
          "model_module": "jupyter-leaflet",
          "model_name": "LeafletWidgetControlModel",
          "model_module_version": "^0.19",
          "state": {
            "_model_module": "jupyter-leaflet",
            "_model_module_version": "^0.19",
            "_model_name": "LeafletWidgetControlModel",
            "_view_count": null,
            "_view_module": "jupyter-leaflet",
            "_view_module_version": "^0.19",
            "_view_name": "LeafletWidgetControlView",
            "max_height": null,
            "max_width": null,
            "min_height": null,
            "min_width": null,
            "options": [
              "position",
              "transparent_bg"
            ],
            "position": "topleft",
            "transparent_bg": false,
            "widget": "IPY_MODEL_a4939563d0ce4b159618d921a9670e80"
          }
        },
        "64cf9eb8c3504239ab031a6b4d97635a": {
          "model_module": "jupyter-leaflet",
          "model_name": "LeafletZoomControlModel",
          "model_module_version": "^0.19",
          "state": {
            "_model_module": "jupyter-leaflet",
            "_model_module_version": "^0.19",
            "_model_name": "LeafletZoomControlModel",
            "_view_count": null,
            "_view_module": "jupyter-leaflet",
            "_view_module_version": "^0.19",
            "_view_name": "LeafletZoomControlView",
            "options": [
              "position",
              "zoom_in_text",
              "zoom_in_title",
              "zoom_out_text",
              "zoom_out_title"
            ],
            "position": "topleft",
            "zoom_in_text": "+",
            "zoom_in_title": "Zoom in",
            "zoom_out_text": "-",
            "zoom_out_title": "Zoom out"
          }
        },
        "6caa82afa5d84aee970cd317ca547465": {
          "model_module": "jupyter-leaflet",
          "model_name": "LeafletFullScreenControlModel",
          "model_module_version": "^0.19",
          "state": {
            "_model_module": "jupyter-leaflet",
            "_model_module_version": "^0.19",
            "_model_name": "LeafletFullScreenControlModel",
            "_view_count": null,
            "_view_module": "jupyter-leaflet",
            "_view_module_version": "^0.19",
            "_view_name": "LeafletFullScreenControlView",
            "options": [
              "position"
            ],
            "position": "topleft"
          }
        },
        "a958f3279cfe4796b5bcbc44b7b749ab": {
          "model_module": "jupyter-leaflet",
          "model_name": "LeafletDrawControlModel",
          "model_module_version": "^0.19",
          "state": {
            "_model_module": "jupyter-leaflet",
            "_model_module_version": "^0.19",
            "_model_name": "LeafletDrawControlModel",
            "_view_count": null,
            "_view_module": "jupyter-leaflet",
            "_view_module_version": "^0.19",
            "_view_name": "LeafletDrawControlView",
            "circle": {},
            "circlemarker": {},
            "data": [],
            "edit": true,
            "marker": {
              "shapeOptions": {
                "color": "#3388ff"
              }
            },
            "options": [
              "position"
            ],
            "polygon": {
              "shapeOptions": {}
            },
            "polyline": {
              "shapeOptions": {}
            },
            "position": "topleft",
            "rectangle": {
              "shapeOptions": {
                "color": "#3388ff"
              }
            },
            "remove": true
          }
        },
        "3678962a2e7c40b5ae721d004aabf663": {
          "model_module": "jupyter-leaflet",
          "model_name": "LeafletScaleControlModel",
          "model_module_version": "^0.19",
          "state": {
            "_model_module": "jupyter-leaflet",
            "_model_module_version": "^0.19",
            "_model_name": "LeafletScaleControlModel",
            "_view_count": null,
            "_view_module": "jupyter-leaflet",
            "_view_module_version": "^0.19",
            "_view_name": "LeafletScaleControlView",
            "imperial": true,
            "max_width": 100,
            "metric": true,
            "options": [
              "imperial",
              "max_width",
              "metric",
              "position",
              "update_when_idle"
            ],
            "position": "bottomleft",
            "update_when_idle": false
          }
        },
        "d028e1972b644230ba442c26d23a0e5b": {
          "model_module": "jupyter-leaflet",
          "model_name": "LeafletMeasureControlModel",
          "model_module_version": "^0.19",
          "state": {
            "_custom_units": {},
            "_model_module": "jupyter-leaflet",
            "_model_module_version": "^0.19",
            "_model_name": "LeafletMeasureControlModel",
            "_view_count": null,
            "_view_module": "jupyter-leaflet",
            "_view_module_version": "^0.19",
            "_view_name": "LeafletMeasureControlView",
            "active_color": "orange",
            "capture_z_index": 10000,
            "completed_color": "#C8F2BE",
            "options": [
              "active_color",
              "capture_z_index",
              "completed_color",
              "popup_options",
              "position",
              "primary_area_unit",
              "primary_length_unit",
              "secondary_area_unit",
              "secondary_length_unit"
            ],
            "popup_options": {
              "className": "leaflet-measure-resultpopup",
              "autoPanPadding": [
                10,
                10
              ]
            },
            "position": "bottomleft",
            "primary_area_unit": "acres",
            "primary_length_unit": "kilometers",
            "secondary_area_unit": null,
            "secondary_length_unit": null
          }
        },
        "a266c870db994093ae6e4b64db2fe86d": {
          "model_module": "jupyter-leaflet",
          "model_name": "LeafletWidgetControlModel",
          "model_module_version": "^0.19",
          "state": {
            "_model_module": "jupyter-leaflet",
            "_model_module_version": "^0.19",
            "_model_name": "LeafletWidgetControlModel",
            "_view_count": null,
            "_view_module": "jupyter-leaflet",
            "_view_module_version": "^0.19",
            "_view_name": "LeafletWidgetControlView",
            "max_height": null,
            "max_width": null,
            "min_height": null,
            "min_width": null,
            "options": [
              "position",
              "transparent_bg"
            ],
            "position": "topright",
            "transparent_bg": false,
            "widget": "IPY_MODEL_9c33aec352324a4bb299e089f426e51f"
          }
        },
        "de50513ddb904bf690b4bc14df8608c0": {
          "model_module": "jupyter-leaflet",
          "model_name": "LeafletAttributionControlModel",
          "model_module_version": "^0.19",
          "state": {
            "_model_module": "jupyter-leaflet",
            "_model_module_version": "^0.19",
            "_model_name": "LeafletAttributionControlModel",
            "_view_count": null,
            "_view_module": "jupyter-leaflet",
            "_view_module_version": "^0.19",
            "_view_name": "LeafletAttributionControlView",
            "options": [
              "position",
              "prefix"
            ],
            "position": "bottomright",
            "prefix": "ipyleaflet"
          }
        },
        "b193850dc87d43e0b565031837b7787c": {
          "model_module": "jupyter-leaflet",
          "model_name": "LeafletLayersControlModel",
          "model_module_version": "^0.19",
          "state": {
            "_model_module": "jupyter-leaflet",
            "_model_module_version": "^0.19",
            "_model_name": "LeafletLayersControlModel",
            "_view_count": null,
            "_view_module": "jupyter-leaflet",
            "_view_module_version": "^0.19",
            "_view_name": "LeafletLayersControlView",
            "collapsed": true,
            "options": [
              "collapsed",
              "position"
            ],
            "position": "topright"
          }
        },
        "4bbfcf30fb26415eb8c76405d8a74612": {
          "model_module": "jupyter-leaflet",
          "model_name": "LeafletWidgetControlModel",
          "model_module_version": "^0.19",
          "state": {
            "_model_module": "jupyter-leaflet",
            "_model_module_version": "^0.19",
            "_model_name": "LeafletWidgetControlModel",
            "_view_count": null,
            "_view_module": "jupyter-leaflet",
            "_view_module_version": "^0.19",
            "_view_name": "LeafletWidgetControlView",
            "max_height": null,
            "max_width": null,
            "min_height": null,
            "min_width": null,
            "options": [
              "position",
              "transparent_bg"
            ],
            "position": "bottomright",
            "transparent_bg": false,
            "widget": "IPY_MODEL_152c4308bbf14ea098bcf3df0e8d5498"
          }
        },
        "8e9cd3802cb34a92970a7d25638d1cee": {
          "model_module": "jupyter-leaflet",
          "model_name": "LeafletMapStyleModel",
          "model_module_version": "^0.19",
          "state": {
            "_model_module": "jupyter-leaflet",
            "_model_module_version": "^0.19",
            "_model_name": "LeafletMapStyleModel",
            "_view_count": null,
            "_view_module": "@jupyter-widgets/base",
            "_view_module_version": "1.2.0",
            "_view_name": "StyleView",
            "cursor": "grab"
          }
        },
        "835146c1ece84648a965587db310207e": {
          "model_module": "jupyter-leaflet",
          "model_name": "LeafletMapStyleModel",
          "model_module_version": "^0.19",
          "state": {
            "_model_module": "jupyter-leaflet",
            "_model_module_version": "^0.19",
            "_model_name": "LeafletMapStyleModel",
            "_view_count": null,
            "_view_module": "@jupyter-widgets/base",
            "_view_module_version": "1.2.0",
            "_view_name": "StyleView",
            "cursor": "move"
          }
        },
        "947b31da34344943ba219f62dd6ccec9": {
          "model_module": "jupyter-leaflet",
          "model_name": "LeafletTileLayerModel",
          "model_module_version": "^0.19",
          "state": {
            "_model_module": "jupyter-leaflet",
            "_model_module_version": "^0.19",
            "_model_name": "LeafletTileLayerModel",
            "_view_count": null,
            "_view_module": "jupyter-leaflet",
            "_view_module_version": "^0.19",
            "_view_name": "LeafletTileLayerView",
            "attribution": "Tiles &copy; Esri &mdash; Source: Esri, i-cubed, USDA, USGS, AEX, GeoEye, Getmapping, Aerogrid, IGN, IGP, UPR-EGP, and the GIS User Community",
            "base": true,
            "bottom": true,
            "bounds": null,
            "detect_retina": false,
            "loading": false,
            "max_native_zoom": null,
            "max_zoom": 30,
            "min_native_zoom": null,
            "min_zoom": 1,
            "name": "Esri.WorldImagery",
            "no_wrap": false,
            "opacity": 1,
            "options": [
              "attribution",
              "bounds",
              "detect_retina",
              "max_native_zoom",
              "max_zoom",
              "min_native_zoom",
              "min_zoom",
              "no_wrap",
              "tile_size",
              "tms",
              "zoom_offset"
            ],
            "pane": "",
            "popup": null,
            "popup_max_height": null,
            "popup_max_width": 300,
            "popup_min_width": 50,
            "show_loading": false,
            "subitems": [],
            "tile_size": 256,
            "tms": false,
            "url": "https://server.arcgisonline.com/ArcGIS/rest/services/World_Imagery/MapServer/tile/{z}/{y}/{x}",
            "visible": true,
            "zoom_offset": 0
          }
        },
        "51516b475dde47c9a730a39b99bbf720": {
          "model_module": "jupyter-leaflet",
          "model_name": "LeafletTileLayerModel",
          "model_module_version": "^0.19",
          "state": {
            "_model_module": "jupyter-leaflet",
            "_model_module_version": "^0.19",
            "_model_name": "LeafletTileLayerModel",
            "_view_count": null,
            "_view_module": "jupyter-leaflet",
            "_view_module_version": "^0.19",
            "_view_name": "LeafletTileLayerView",
            "attribution": "Google Earth Engine",
            "base": false,
            "bottom": true,
            "bounds": null,
            "detect_retina": false,
            "loading": false,
            "max_native_zoom": null,
            "max_zoom": 24,
            "min_native_zoom": null,
            "min_zoom": 0,
            "name": "NDSI 2025",
            "no_wrap": false,
            "opacity": 1,
            "options": [
              "attribution",
              "bounds",
              "detect_retina",
              "max_native_zoom",
              "max_zoom",
              "min_native_zoom",
              "min_zoom",
              "no_wrap",
              "tile_size",
              "tms",
              "zoom_offset"
            ],
            "pane": "",
            "popup": null,
            "popup_max_height": null,
            "popup_max_width": 300,
            "popup_min_width": 50,
            "show_loading": false,
            "subitems": [],
            "tile_size": 256,
            "tms": false,
            "url": "https://earthengine.googleapis.com/v1/projects/ee-snowcovernil/maps/01d2932f50a119ff923267275a2232a9-17a1d436ff954719e25231524457b2d0/tiles/{z}/{x}/{y}",
            "visible": true,
            "zoom_offset": 0
          }
        },
        "a4cb0452dcb64fe0a901964e1ca18272": {
          "model_module": "@jupyter-widgets/base",
          "model_name": "LayoutModel",
          "model_module_version": "1.2.0",
          "state": {
            "_model_module": "@jupyter-widgets/base",
            "_model_module_version": "1.2.0",
            "_model_name": "LayoutModel",
            "_view_count": null,
            "_view_module": "@jupyter-widgets/base",
            "_view_module_version": "1.2.0",
            "_view_name": "LayoutView",
            "align_content": null,
            "align_items": null,
            "align_self": null,
            "border": null,
            "bottom": null,
            "display": null,
            "flex": null,
            "flex_flow": null,
            "grid_area": null,
            "grid_auto_columns": null,
            "grid_auto_flow": null,
            "grid_auto_rows": null,
            "grid_column": null,
            "grid_gap": null,
            "grid_row": null,
            "grid_template_areas": null,
            "grid_template_columns": null,
            "grid_template_rows": null,
            "height": "600px",
            "justify_content": null,
            "justify_items": null,
            "left": null,
            "margin": null,
            "max_height": null,
            "max_width": null,
            "min_height": null,
            "min_width": null,
            "object_fit": null,
            "object_position": null,
            "order": null,
            "overflow": null,
            "overflow_x": null,
            "overflow_y": null,
            "padding": null,
            "right": null,
            "top": null,
            "visibility": null,
            "width": null
          }
        },
        "715398106c874f659e2b33be9ec89828": {
          "model_module": "jupyter-leaflet",
          "model_name": "LeafletMapStyleModel",
          "model_module_version": "^0.19",
          "state": {
            "_model_module": "jupyter-leaflet",
            "_model_module_version": "^0.19",
            "_model_name": "LeafletMapStyleModel",
            "_view_count": null,
            "_view_module": "@jupyter-widgets/base",
            "_view_module_version": "1.2.0",
            "_view_name": "StyleView",
            "cursor": "grab"
          }
        },
        "a4939563d0ce4b159618d921a9670e80": {
          "model_module": "@jupyter-widgets/controls",
          "model_name": "HBoxModel",
          "model_module_version": "1.5.0",
          "state": {
            "_dom_classes": [
              "geemap-colab"
            ],
            "_model_module": "@jupyter-widgets/controls",
            "_model_module_version": "1.5.0",
            "_model_name": "HBoxModel",
            "_view_count": null,
            "_view_module": "@jupyter-widgets/controls",
            "_view_module_version": "1.5.0",
            "_view_name": "HBoxView",
            "box_style": "",
            "children": [
              "IPY_MODEL_fec91fc7798343abba293ae09c1ff3b5"
            ],
            "layout": "IPY_MODEL_a477f4fc97af42bea36e75e2d27bf6c8"
          }
        },
        "9c33aec352324a4bb299e089f426e51f": {
          "model_module": "@jupyter-widgets/controls",
          "model_name": "VBoxModel",
          "model_module_version": "1.5.0",
          "state": {
            "_dom_classes": [
              "geemap-colab"
            ],
            "_model_module": "@jupyter-widgets/controls",
            "_model_module_version": "1.5.0",
            "_model_name": "VBoxModel",
            "_view_count": null,
            "_view_module": "@jupyter-widgets/controls",
            "_view_module_version": "1.5.0",
            "_view_name": "VBoxView",
            "box_style": "",
            "children": [
              "IPY_MODEL_1cefca97fc51498ea9337c9a6c272de7",
              "IPY_MODEL_14bfa5b8936c47b8a113ae2735a13c8b"
            ],
            "layout": "IPY_MODEL_fb9dc0554e5c428fbca1bf8821b38ac0"
          }
        },
        "152c4308bbf14ea098bcf3df0e8d5498": {
          "model_module": "@jupyter-widgets/output",
          "model_name": "OutputModel",
          "model_module_version": "1.0.0",
          "state": {
            "_dom_classes": [
              "geemap-colab"
            ],
            "_model_module": "@jupyter-widgets/output",
            "_model_module_version": "1.0.0",
            "_model_name": "OutputModel",
            "_view_count": null,
            "_view_module": "@jupyter-widgets/output",
            "_view_module_version": "1.0.0",
            "_view_name": "OutputView",
            "layout": "IPY_MODEL_e3a044aa1e9a47038a39b6b1d4bc42ef",
            "msg_id": "",
            "outputs": [
              {
                "output_type": "display_data",
                "data": {
                  "text/plain": "<Figure size 30x300 with 1 Axes>",
                  "image/png": "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\n"
                },
                "metadata": {}
              }
            ]
          }
        },
        "fec91fc7798343abba293ae09c1ff3b5": {
          "model_module": "@jupyter-widgets/controls",
          "model_name": "ToggleButtonModel",
          "model_module_version": "1.5.0",
          "state": {
            "_dom_classes": [],
            "_model_module": "@jupyter-widgets/controls",
            "_model_module_version": "1.5.0",
            "_model_name": "ToggleButtonModel",
            "_view_count": null,
            "_view_module": "@jupyter-widgets/controls",
            "_view_module_version": "1.5.0",
            "_view_name": "ToggleButtonView",
            "button_style": "",
            "description": "",
            "description_tooltip": null,
            "disabled": false,
            "icon": "globe",
            "layout": "IPY_MODEL_8bb3769b43b2435bacfd1a4613da1d14",
            "style": "IPY_MODEL_04c908a4435242eb8432588b6432349b",
            "tooltip": "Search location/data",
            "value": false
          }
        },
        "a477f4fc97af42bea36e75e2d27bf6c8": {
          "model_module": "@jupyter-widgets/base",
          "model_name": "LayoutModel",
          "model_module_version": "1.2.0",
          "state": {
            "_model_module": "@jupyter-widgets/base",
            "_model_module_version": "1.2.0",
            "_model_name": "LayoutModel",
            "_view_count": null,
            "_view_module": "@jupyter-widgets/base",
            "_view_module_version": "1.2.0",
            "_view_name": "LayoutView",
            "align_content": null,
            "align_items": null,
            "align_self": null,
            "border": null,
            "bottom": null,
            "display": null,
            "flex": null,
            "flex_flow": null,
            "grid_area": null,
            "grid_auto_columns": null,
            "grid_auto_flow": null,
            "grid_auto_rows": null,
            "grid_column": null,
            "grid_gap": null,
            "grid_row": null,
            "grid_template_areas": null,
            "grid_template_columns": null,
            "grid_template_rows": null,
            "height": null,
            "justify_content": null,
            "justify_items": null,
            "left": null,
            "margin": null,
            "max_height": null,
            "max_width": null,
            "min_height": null,
            "min_width": null,
            "object_fit": null,
            "object_position": null,
            "order": null,
            "overflow": null,
            "overflow_x": null,
            "overflow_y": null,
            "padding": null,
            "right": null,
            "top": null,
            "visibility": null,
            "width": null
          }
        },
        "1cefca97fc51498ea9337c9a6c272de7": {
          "model_module": "@jupyter-widgets/controls",
          "model_name": "HBoxModel",
          "model_module_version": "1.5.0",
          "state": {
            "_dom_classes": [],
            "_model_module": "@jupyter-widgets/controls",
            "_model_module_version": "1.5.0",
            "_model_name": "HBoxModel",
            "_view_count": null,
            "_view_module": "@jupyter-widgets/controls",
            "_view_module_version": "1.5.0",
            "_view_name": "HBoxView",
            "box_style": "",
            "children": [
              "IPY_MODEL_14575c3c119c47a696806054e5143155",
              "IPY_MODEL_91eced2b5acc4c2b9ade18d5def4a522"
            ],
            "layout": "IPY_MODEL_691ef99603b24cb4b511b27268101018"
          }
        },
        "14bfa5b8936c47b8a113ae2735a13c8b": {
          "model_module": "@jupyter-widgets/controls",
          "model_name": "VBoxModel",
          "model_module_version": "1.5.0",
          "state": {
            "_dom_classes": [],
            "_model_module": "@jupyter-widgets/controls",
            "_model_module_version": "1.5.0",
            "_model_name": "VBoxModel",
            "_view_count": null,
            "_view_module": "@jupyter-widgets/controls",
            "_view_module_version": "1.5.0",
            "_view_name": "VBoxView",
            "box_style": "",
            "children": [
              "IPY_MODEL_bd7b618d3907469c98b20556aa289969"
            ],
            "layout": "IPY_MODEL_64b772dd4cb44cb2a7360c96d89b5c17"
          }
        },
        "fb9dc0554e5c428fbca1bf8821b38ac0": {
          "model_module": "@jupyter-widgets/base",
          "model_name": "LayoutModel",
          "model_module_version": "1.2.0",
          "state": {
            "_model_module": "@jupyter-widgets/base",
            "_model_module_version": "1.2.0",
            "_model_name": "LayoutModel",
            "_view_count": null,
            "_view_module": "@jupyter-widgets/base",
            "_view_module_version": "1.2.0",
            "_view_name": "LayoutView",
            "align_content": null,
            "align_items": null,
            "align_self": null,
            "border": null,
            "bottom": null,
            "display": null,
            "flex": null,
            "flex_flow": null,
            "grid_area": null,
            "grid_auto_columns": null,
            "grid_auto_flow": null,
            "grid_auto_rows": null,
            "grid_column": null,
            "grid_gap": null,
            "grid_row": null,
            "grid_template_areas": null,
            "grid_template_columns": null,
            "grid_template_rows": null,
            "height": null,
            "justify_content": null,
            "justify_items": null,
            "left": null,
            "margin": null,
            "max_height": null,
            "max_width": null,
            "min_height": null,
            "min_width": null,
            "object_fit": null,
            "object_position": null,
            "order": null,
            "overflow": null,
            "overflow_x": null,
            "overflow_y": null,
            "padding": null,
            "right": null,
            "top": null,
            "visibility": null,
            "width": null
          }
        },
        "e3a044aa1e9a47038a39b6b1d4bc42ef": {
          "model_module": "@jupyter-widgets/base",
          "model_name": "LayoutModel",
          "model_module_version": "1.2.0",
          "state": {
            "_model_module": "@jupyter-widgets/base",
            "_model_module_version": "1.2.0",
            "_model_name": "LayoutModel",
            "_view_count": null,
            "_view_module": "@jupyter-widgets/base",
            "_view_module_version": "1.2.0",
            "_view_name": "LayoutView",
            "align_content": null,
            "align_items": null,
            "align_self": null,
            "border": null,
            "bottom": null,
            "display": null,
            "flex": null,
            "flex_flow": null,
            "grid_area": null,
            "grid_auto_columns": null,
            "grid_auto_flow": null,
            "grid_auto_rows": null,
            "grid_column": null,
            "grid_gap": null,
            "grid_row": null,
            "grid_template_areas": null,
            "grid_template_columns": null,
            "grid_template_rows": null,
            "height": null,
            "justify_content": null,
            "justify_items": null,
            "left": null,
            "margin": null,
            "max_height": null,
            "max_width": null,
            "min_height": null,
            "min_width": null,
            "object_fit": null,
            "object_position": null,
            "order": null,
            "overflow": null,
            "overflow_x": null,
            "overflow_y": null,
            "padding": null,
            "right": null,
            "top": null,
            "visibility": null,
            "width": "100px"
          }
        },
        "8bb3769b43b2435bacfd1a4613da1d14": {
          "model_module": "@jupyter-widgets/base",
          "model_name": "LayoutModel",
          "model_module_version": "1.2.0",
          "state": {
            "_model_module": "@jupyter-widgets/base",
            "_model_module_version": "1.2.0",
            "_model_name": "LayoutModel",
            "_view_count": null,
            "_view_module": "@jupyter-widgets/base",
            "_view_module_version": "1.2.0",
            "_view_name": "LayoutView",
            "align_content": null,
            "align_items": null,
            "align_self": null,
            "border": null,
            "bottom": null,
            "display": null,
            "flex": null,
            "flex_flow": null,
            "grid_area": null,
            "grid_auto_columns": null,
            "grid_auto_flow": null,
            "grid_auto_rows": null,
            "grid_column": null,
            "grid_gap": null,
            "grid_row": null,
            "grid_template_areas": null,
            "grid_template_columns": null,
            "grid_template_rows": null,
            "height": "28px",
            "justify_content": null,
            "justify_items": null,
            "left": null,
            "margin": null,
            "max_height": null,
            "max_width": null,
            "min_height": null,
            "min_width": null,
            "object_fit": null,
            "object_position": null,
            "order": null,
            "overflow": null,
            "overflow_x": null,
            "overflow_y": null,
            "padding": "0px 0px 0px 4px",
            "right": null,
            "top": null,
            "visibility": null,
            "width": "28px"
          }
        },
        "04c908a4435242eb8432588b6432349b": {
          "model_module": "@jupyter-widgets/controls",
          "model_name": "DescriptionStyleModel",
          "model_module_version": "1.5.0",
          "state": {
            "_model_module": "@jupyter-widgets/controls",
            "_model_module_version": "1.5.0",
            "_model_name": "DescriptionStyleModel",
            "_view_count": null,
            "_view_module": "@jupyter-widgets/base",
            "_view_module_version": "1.2.0",
            "_view_name": "StyleView",
            "description_width": ""
          }
        },
        "14575c3c119c47a696806054e5143155": {
          "model_module": "@jupyter-widgets/controls",
          "model_name": "ToggleButtonModel",
          "model_module_version": "1.5.0",
          "state": {
            "_dom_classes": [],
            "_model_module": "@jupyter-widgets/controls",
            "_model_module_version": "1.5.0",
            "_model_name": "ToggleButtonModel",
            "_view_count": null,
            "_view_module": "@jupyter-widgets/controls",
            "_view_module_version": "1.5.0",
            "_view_name": "ToggleButtonView",
            "button_style": "",
            "description": "",
            "description_tooltip": null,
            "disabled": false,
            "icon": "server",
            "layout": "IPY_MODEL_48cd239fa18e4a2a8359245ed265154f",
            "style": "IPY_MODEL_e3c394174b3d4916b3daed0abf74ec45",
            "tooltip": "Layers",
            "value": true
          }
        },
        "91eced2b5acc4c2b9ade18d5def4a522": {
          "model_module": "@jupyter-widgets/controls",
          "model_name": "ToggleButtonModel",
          "model_module_version": "1.5.0",
          "state": {
            "_dom_classes": [],
            "_model_module": "@jupyter-widgets/controls",
            "_model_module_version": "1.5.0",
            "_model_name": "ToggleButtonModel",
            "_view_count": null,
            "_view_module": "@jupyter-widgets/controls",
            "_view_module_version": "1.5.0",
            "_view_name": "ToggleButtonView",
            "button_style": "",
            "description": "",
            "description_tooltip": null,
            "disabled": false,
            "icon": "wrench",
            "layout": "IPY_MODEL_b3ab9e753b42468e8858bf8e25581f02",
            "style": "IPY_MODEL_089c9df09be547f7858d799168a5e7bf",
            "tooltip": "Toolbar",
            "value": false
          }
        },
        "691ef99603b24cb4b511b27268101018": {
          "model_module": "@jupyter-widgets/base",
          "model_name": "LayoutModel",
          "model_module_version": "1.2.0",
          "state": {
            "_model_module": "@jupyter-widgets/base",
            "_model_module_version": "1.2.0",
            "_model_name": "LayoutModel",
            "_view_count": null,
            "_view_module": "@jupyter-widgets/base",
            "_view_module_version": "1.2.0",
            "_view_name": "LayoutView",
            "align_content": null,
            "align_items": "center",
            "align_self": null,
            "border": null,
            "bottom": null,
            "display": "flex",
            "flex": null,
            "flex_flow": null,
            "grid_area": null,
            "grid_auto_columns": null,
            "grid_auto_flow": null,
            "grid_auto_rows": null,
            "grid_column": null,
            "grid_gap": null,
            "grid_row": null,
            "grid_template_areas": null,
            "grid_template_columns": null,
            "grid_template_rows": null,
            "height": null,
            "justify_content": "flex-end",
            "justify_items": null,
            "left": null,
            "margin": null,
            "max_height": null,
            "max_width": null,
            "min_height": null,
            "min_width": null,
            "object_fit": null,
            "object_position": null,
            "order": null,
            "overflow": null,
            "overflow_x": null,
            "overflow_y": null,
            "padding": null,
            "right": null,
            "top": null,
            "visibility": null,
            "width": null
          }
        },
        "bd7b618d3907469c98b20556aa289969": {
          "model_module": "@jupyter-widgets/controls",
          "model_name": "VBoxModel",
          "model_module_version": "1.5.0",
          "state": {
            "_dom_classes": [
              "geemap-colab"
            ],
            "_model_module": "@jupyter-widgets/controls",
            "_model_module_version": "1.5.0",
            "_model_name": "VBoxModel",
            "_view_count": null,
            "_view_module": "@jupyter-widgets/controls",
            "_view_module_version": "1.5.0",
            "_view_name": "VBoxView",
            "box_style": "",
            "children": [
              "IPY_MODEL_e645267ff20d4124bccfd197f22c05b4",
              "IPY_MODEL_da9574ffbabd441582f476cdfefaee06"
            ],
            "layout": "IPY_MODEL_9b448fd91dfa49e39b43a58964dbfd39"
          }
        },
        "64b772dd4cb44cb2a7360c96d89b5c17": {
          "model_module": "@jupyter-widgets/base",
          "model_name": "LayoutModel",
          "model_module_version": "1.2.0",
          "state": {
            "_model_module": "@jupyter-widgets/base",
            "_model_module_version": "1.2.0",
            "_model_name": "LayoutModel",
            "_view_count": null,
            "_view_module": "@jupyter-widgets/base",
            "_view_module_version": "1.2.0",
            "_view_name": "LayoutView",
            "align_content": null,
            "align_items": null,
            "align_self": null,
            "border": null,
            "bottom": null,
            "display": null,
            "flex": null,
            "flex_flow": null,
            "grid_area": null,
            "grid_auto_columns": null,
            "grid_auto_flow": null,
            "grid_auto_rows": null,
            "grid_column": null,
            "grid_gap": null,
            "grid_row": null,
            "grid_template_areas": null,
            "grid_template_columns": null,
            "grid_template_rows": null,
            "height": null,
            "justify_content": null,
            "justify_items": null,
            "left": null,
            "margin": null,
            "max_height": null,
            "max_width": null,
            "min_height": null,
            "min_width": null,
            "object_fit": null,
            "object_position": null,
            "order": null,
            "overflow": null,
            "overflow_x": null,
            "overflow_y": null,
            "padding": null,
            "right": null,
            "top": null,
            "visibility": null,
            "width": null
          }
        },
        "48cd239fa18e4a2a8359245ed265154f": {
          "model_module": "@jupyter-widgets/base",
          "model_name": "LayoutModel",
          "model_module_version": "1.2.0",
          "state": {
            "_model_module": "@jupyter-widgets/base",
            "_model_module_version": "1.2.0",
            "_model_name": "LayoutModel",
            "_view_count": null,
            "_view_module": "@jupyter-widgets/base",
            "_view_module_version": "1.2.0",
            "_view_name": "LayoutView",
            "align_content": null,
            "align_items": null,
            "align_self": null,
            "border": null,
            "bottom": null,
            "display": null,
            "flex": null,
            "flex_flow": null,
            "grid_area": null,
            "grid_auto_columns": null,
            "grid_auto_flow": null,
            "grid_auto_rows": null,
            "grid_column": null,
            "grid_gap": null,
            "grid_row": null,
            "grid_template_areas": null,
            "grid_template_columns": null,
            "grid_template_rows": null,
            "height": "28px",
            "justify_content": null,
            "justify_items": null,
            "left": null,
            "margin": null,
            "max_height": null,
            "max_width": null,
            "min_height": null,
            "min_width": null,
            "object_fit": null,
            "object_position": null,
            "order": null,
            "overflow": null,
            "overflow_x": null,
            "overflow_y": null,
            "padding": null,
            "right": null,
            "top": null,
            "visibility": null,
            "width": "72px"
          }
        },
        "e3c394174b3d4916b3daed0abf74ec45": {
          "model_module": "@jupyter-widgets/controls",
          "model_name": "DescriptionStyleModel",
          "model_module_version": "1.5.0",
          "state": {
            "_model_module": "@jupyter-widgets/controls",
            "_model_module_version": "1.5.0",
            "_model_name": "DescriptionStyleModel",
            "_view_count": null,
            "_view_module": "@jupyter-widgets/base",
            "_view_module_version": "1.2.0",
            "_view_name": "StyleView",
            "description_width": ""
          }
        },
        "b3ab9e753b42468e8858bf8e25581f02": {
          "model_module": "@jupyter-widgets/base",
          "model_name": "LayoutModel",
          "model_module_version": "1.2.0",
          "state": {
            "_model_module": "@jupyter-widgets/base",
            "_model_module_version": "1.2.0",
            "_model_name": "LayoutModel",
            "_view_count": null,
            "_view_module": "@jupyter-widgets/base",
            "_view_module_version": "1.2.0",
            "_view_name": "LayoutView",
            "align_content": null,
            "align_items": null,
            "align_self": null,
            "border": null,
            "bottom": null,
            "display": null,
            "flex": null,
            "flex_flow": null,
            "grid_area": null,
            "grid_auto_columns": null,
            "grid_auto_flow": null,
            "grid_auto_rows": null,
            "grid_column": null,
            "grid_gap": null,
            "grid_row": null,
            "grid_template_areas": null,
            "grid_template_columns": null,
            "grid_template_rows": null,
            "height": "28px",
            "justify_content": null,
            "justify_items": null,
            "left": null,
            "margin": null,
            "max_height": null,
            "max_width": null,
            "min_height": null,
            "min_width": null,
            "object_fit": null,
            "object_position": null,
            "order": null,
            "overflow": null,
            "overflow_x": null,
            "overflow_y": null,
            "padding": "0px 0px 0px 4px",
            "right": null,
            "top": null,
            "visibility": null,
            "width": "28px"
          }
        },
        "089c9df09be547f7858d799168a5e7bf": {
          "model_module": "@jupyter-widgets/controls",
          "model_name": "DescriptionStyleModel",
          "model_module_version": "1.5.0",
          "state": {
            "_model_module": "@jupyter-widgets/controls",
            "_model_module_version": "1.5.0",
            "_model_name": "DescriptionStyleModel",
            "_view_count": null,
            "_view_module": "@jupyter-widgets/base",
            "_view_module_version": "1.2.0",
            "_view_name": "StyleView",
            "description_width": ""
          }
        },
        "e645267ff20d4124bccfd197f22c05b4": {
          "model_module": "@jupyter-widgets/controls",
          "model_name": "HBoxModel",
          "model_module_version": "1.5.0",
          "state": {
            "_dom_classes": [],
            "_model_module": "@jupyter-widgets/controls",
            "_model_module_version": "1.5.0",
            "_model_name": "HBoxModel",
            "_view_count": null,
            "_view_module": "@jupyter-widgets/controls",
            "_view_module_version": "1.5.0",
            "_view_name": "HBoxView",
            "box_style": "",
            "children": [
              "IPY_MODEL_6d3483d21e3146cdad35bd97a54b09f7",
              "IPY_MODEL_b12dd5be0fc2476a9d120bc5ba4eb451"
            ],
            "layout": "IPY_MODEL_0439e3542fdf45269500673ab31eef8c"
          }
        },
        "da9574ffbabd441582f476cdfefaee06": {
          "model_module": "@jupyter-widgets/controls",
          "model_name": "VBoxModel",
          "model_module_version": "1.5.0",
          "state": {
            "_dom_classes": [],
            "_model_module": "@jupyter-widgets/controls",
            "_model_module_version": "1.5.0",
            "_model_name": "VBoxModel",
            "_view_count": null,
            "_view_module": "@jupyter-widgets/controls",
            "_view_module_version": "1.5.0",
            "_view_name": "VBoxView",
            "box_style": "",
            "children": [
              "IPY_MODEL_13493d00b35c444984669a50a969a467",
              "IPY_MODEL_cba53c8af7ce4a51a1073755530a41a7",
              "IPY_MODEL_c841ac7bc0724bb19cee715807ec0c82"
            ],
            "layout": "IPY_MODEL_3d3fb947f48c4f738ccf84085e749506"
          }
        },
        "9b448fd91dfa49e39b43a58964dbfd39": {
          "model_module": "@jupyter-widgets/base",
          "model_name": "LayoutModel",
          "model_module_version": "1.2.0",
          "state": {
            "_model_module": "@jupyter-widgets/base",
            "_model_module_version": "1.2.0",
            "_model_name": "LayoutModel",
            "_view_count": null,
            "_view_module": "@jupyter-widgets/base",
            "_view_module_version": "1.2.0",
            "_view_name": "LayoutView",
            "align_content": null,
            "align_items": null,
            "align_self": null,
            "border": null,
            "bottom": null,
            "display": null,
            "flex": null,
            "flex_flow": null,
            "grid_area": null,
            "grid_auto_columns": null,
            "grid_auto_flow": null,
            "grid_auto_rows": null,
            "grid_column": null,
            "grid_gap": null,
            "grid_row": null,
            "grid_template_areas": null,
            "grid_template_columns": null,
            "grid_template_rows": null,
            "height": null,
            "justify_content": null,
            "justify_items": null,
            "left": null,
            "margin": null,
            "max_height": null,
            "max_width": null,
            "min_height": null,
            "min_width": null,
            "object_fit": null,
            "object_position": null,
            "order": null,
            "overflow": null,
            "overflow_x": null,
            "overflow_y": null,
            "padding": null,
            "right": null,
            "top": null,
            "visibility": null,
            "width": null
          }
        },
        "6d3483d21e3146cdad35bd97a54b09f7": {
          "model_module": "@jupyter-widgets/controls",
          "model_name": "ButtonModel",
          "model_module_version": "1.5.0",
          "state": {
            "_dom_classes": [],
            "_model_module": "@jupyter-widgets/controls",
            "_model_module_version": "1.5.0",
            "_model_name": "ButtonModel",
            "_view_count": null,
            "_view_module": "@jupyter-widgets/controls",
            "_view_module_version": "1.5.0",
            "_view_name": "ButtonView",
            "button_style": "primary",
            "description": "",
            "disabled": false,
            "icon": "times",
            "layout": "IPY_MODEL_f2630407dc0948fc9bc130f3ddec17c5",
            "style": "IPY_MODEL_088e6759bba148faad761f67008f409a",
            "tooltip": "Close the tool"
          }
        },
        "b12dd5be0fc2476a9d120bc5ba4eb451": {
          "model_module": "@jupyter-widgets/controls",
          "model_name": "ToggleButtonModel",
          "model_module_version": "1.5.0",
          "state": {
            "_dom_classes": [],
            "_model_module": "@jupyter-widgets/controls",
            "_model_module_version": "1.5.0",
            "_model_name": "ToggleButtonModel",
            "_view_count": null,
            "_view_module": "@jupyter-widgets/controls",
            "_view_module_version": "1.5.0",
            "_view_name": "ToggleButtonView",
            "button_style": "",
            "description": "",
            "description_tooltip": null,
            "disabled": false,
            "icon": "server",
            "layout": "IPY_MODEL_fc57920754c9451c922a32d0e19582f7",
            "style": "IPY_MODEL_9b52ce39280a49faaaa0bb299c8384da",
            "tooltip": "Layer Manager",
            "value": true
          }
        },
        "0439e3542fdf45269500673ab31eef8c": {
          "model_module": "@jupyter-widgets/base",
          "model_name": "LayoutModel",
          "model_module_version": "1.2.0",
          "state": {
            "_model_module": "@jupyter-widgets/base",
            "_model_module_version": "1.2.0",
            "_model_name": "LayoutModel",
            "_view_count": null,
            "_view_module": "@jupyter-widgets/base",
            "_view_module_version": "1.2.0",
            "_view_name": "LayoutView",
            "align_content": null,
            "align_items": null,
            "align_self": null,
            "border": null,
            "bottom": null,
            "display": "none",
            "flex": null,
            "flex_flow": null,
            "grid_area": null,
            "grid_auto_columns": null,
            "grid_auto_flow": null,
            "grid_auto_rows": null,
            "grid_column": null,
            "grid_gap": null,
            "grid_row": null,
            "grid_template_areas": null,
            "grid_template_columns": null,
            "grid_template_rows": null,
            "height": null,
            "justify_content": null,
            "justify_items": null,
            "left": null,
            "margin": null,
            "max_height": null,
            "max_width": null,
            "min_height": null,
            "min_width": null,
            "object_fit": null,
            "object_position": null,
            "order": null,
            "overflow": null,
            "overflow_x": null,
            "overflow_y": null,
            "padding": null,
            "right": null,
            "top": null,
            "visibility": null,
            "width": null
          }
        },
        "13493d00b35c444984669a50a969a467": {
          "model_module": "@jupyter-widgets/controls",
          "model_name": "CheckboxModel",
          "model_module_version": "1.5.0",
          "state": {
            "_dom_classes": [],
            "_model_module": "@jupyter-widgets/controls",
            "_model_module_version": "1.5.0",
            "_model_name": "CheckboxModel",
            "_view_count": null,
            "_view_module": "@jupyter-widgets/controls",
            "_view_module_version": "1.5.0",
            "_view_name": "CheckboxView",
            "description": "All layers on/off",
            "description_tooltip": null,
            "disabled": false,
            "indent": false,
            "layout": "IPY_MODEL_8c1040aa8cbb499c8372536e36a67990",
            "style": "IPY_MODEL_68f1c89e977140ccafc2a798c3f1eff5",
            "value": false
          }
        },
        "cba53c8af7ce4a51a1073755530a41a7": {
          "model_module": "@jupyter-widgets/controls",
          "model_name": "HBoxModel",
          "model_module_version": "1.5.0",
          "state": {
            "_dom_classes": [],
            "_model_module": "@jupyter-widgets/controls",
            "_model_module_version": "1.5.0",
            "_model_name": "HBoxModel",
            "_view_count": null,
            "_view_module": "@jupyter-widgets/controls",
            "_view_module_version": "1.5.0",
            "_view_name": "HBoxView",
            "box_style": "",
            "children": [
              "IPY_MODEL_8537d8c113e54197b26e05445788b9ac",
              "IPY_MODEL_ed95c656160b4f39a595aafc0f954f65",
              "IPY_MODEL_27395378b8204e56a595182d793f4830",
              "IPY_MODEL_04f96fd808364a488d8bff9b93e2f2d5"
            ],
            "layout": "IPY_MODEL_bd790bf8c6b247cf9f9a62f5c255474a"
          }
        },
        "c841ac7bc0724bb19cee715807ec0c82": {
          "model_module": "@jupyter-widgets/controls",
          "model_name": "HBoxModel",
          "model_module_version": "1.5.0",
          "state": {
            "_dom_classes": [],
            "_model_module": "@jupyter-widgets/controls",
            "_model_module_version": "1.5.0",
            "_model_name": "HBoxModel",
            "_view_count": null,
            "_view_module": "@jupyter-widgets/controls",
            "_view_module_version": "1.5.0",
            "_view_name": "HBoxView",
            "box_style": "",
            "children": [
              "IPY_MODEL_5b9dde1fb8444c75abb087893d3dd13c",
              "IPY_MODEL_9000113c23154454aaf45de60bcd9fd2",
              "IPY_MODEL_0d1eb65210064cabacc0dc411cee6a01",
              "IPY_MODEL_9c283eb8225b4ad9b90206714d2e4681"
            ],
            "layout": "IPY_MODEL_e0f5ee86c54a41589c17ce190424554c"
          }
        },
        "3d3fb947f48c4f738ccf84085e749506": {
          "model_module": "@jupyter-widgets/base",
          "model_name": "LayoutModel",
          "model_module_version": "1.2.0",
          "state": {
            "_model_module": "@jupyter-widgets/base",
            "_model_module_version": "1.2.0",
            "_model_name": "LayoutModel",
            "_view_count": null,
            "_view_module": "@jupyter-widgets/base",
            "_view_module_version": "1.2.0",
            "_view_name": "LayoutView",
            "align_content": null,
            "align_items": null,
            "align_self": null,
            "border": null,
            "bottom": null,
            "display": null,
            "flex": null,
            "flex_flow": null,
            "grid_area": null,
            "grid_auto_columns": null,
            "grid_auto_flow": null,
            "grid_auto_rows": null,
            "grid_column": null,
            "grid_gap": null,
            "grid_row": null,
            "grid_template_areas": null,
            "grid_template_columns": null,
            "grid_template_rows": null,
            "height": null,
            "justify_content": null,
            "justify_items": null,
            "left": null,
            "margin": null,
            "max_height": null,
            "max_width": null,
            "min_height": null,
            "min_width": null,
            "object_fit": null,
            "object_position": null,
            "order": null,
            "overflow": null,
            "overflow_x": null,
            "overflow_y": null,
            "padding": null,
            "right": null,
            "top": null,
            "visibility": null,
            "width": null
          }
        },
        "f2630407dc0948fc9bc130f3ddec17c5": {
          "model_module": "@jupyter-widgets/base",
          "model_name": "LayoutModel",
          "model_module_version": "1.2.0",
          "state": {
            "_model_module": "@jupyter-widgets/base",
            "_model_module_version": "1.2.0",
            "_model_name": "LayoutModel",
            "_view_count": null,
            "_view_module": "@jupyter-widgets/base",
            "_view_module_version": "1.2.0",
            "_view_name": "LayoutView",
            "align_content": null,
            "align_items": null,
            "align_self": null,
            "border": null,
            "bottom": null,
            "display": null,
            "flex": null,
            "flex_flow": null,
            "grid_area": null,
            "grid_auto_columns": null,
            "grid_auto_flow": null,
            "grid_auto_rows": null,
            "grid_column": null,
            "grid_gap": null,
            "grid_row": null,
            "grid_template_areas": null,
            "grid_template_columns": null,
            "grid_template_rows": null,
            "height": "28px",
            "justify_content": null,
            "justify_items": null,
            "left": null,
            "margin": null,
            "max_height": null,
            "max_width": null,
            "min_height": null,
            "min_width": null,
            "object_fit": null,
            "object_position": null,
            "order": null,
            "overflow": null,
            "overflow_x": null,
            "overflow_y": null,
            "padding": "0px",
            "right": null,
            "top": null,
            "visibility": null,
            "width": "28px"
          }
        },
        "088e6759bba148faad761f67008f409a": {
          "model_module": "@jupyter-widgets/controls",
          "model_name": "ButtonStyleModel",
          "model_module_version": "1.5.0",
          "state": {
            "_model_module": "@jupyter-widgets/controls",
            "_model_module_version": "1.5.0",
            "_model_name": "ButtonStyleModel",
            "_view_count": null,
            "_view_module": "@jupyter-widgets/base",
            "_view_module_version": "1.2.0",
            "_view_name": "StyleView",
            "button_color": null,
            "font_weight": ""
          }
        },
        "fc57920754c9451c922a32d0e19582f7": {
          "model_module": "@jupyter-widgets/base",
          "model_name": "LayoutModel",
          "model_module_version": "1.2.0",
          "state": {
            "_model_module": "@jupyter-widgets/base",
            "_model_module_version": "1.2.0",
            "_model_name": "LayoutModel",
            "_view_count": null,
            "_view_module": "@jupyter-widgets/base",
            "_view_module_version": "1.2.0",
            "_view_name": "LayoutView",
            "align_content": null,
            "align_items": null,
            "align_self": null,
            "border": null,
            "bottom": null,
            "display": null,
            "flex": null,
            "flex_flow": null,
            "grid_area": null,
            "grid_auto_columns": null,
            "grid_auto_flow": null,
            "grid_auto_rows": null,
            "grid_column": null,
            "grid_gap": null,
            "grid_row": null,
            "grid_template_areas": null,
            "grid_template_columns": null,
            "grid_template_rows": null,
            "height": "28px",
            "justify_content": null,
            "justify_items": null,
            "left": null,
            "margin": null,
            "max_height": null,
            "max_width": null,
            "min_height": null,
            "min_width": null,
            "object_fit": null,
            "object_position": null,
            "order": null,
            "overflow": null,
            "overflow_x": null,
            "overflow_y": null,
            "padding": "0px 0px 0px 4px",
            "right": null,
            "top": null,
            "visibility": null,
            "width": "28px"
          }
        },
        "9b52ce39280a49faaaa0bb299c8384da": {
          "model_module": "@jupyter-widgets/controls",
          "model_name": "DescriptionStyleModel",
          "model_module_version": "1.5.0",
          "state": {
            "_model_module": "@jupyter-widgets/controls",
            "_model_module_version": "1.5.0",
            "_model_name": "DescriptionStyleModel",
            "_view_count": null,
            "_view_module": "@jupyter-widgets/base",
            "_view_module_version": "1.2.0",
            "_view_name": "StyleView",
            "description_width": ""
          }
        },
        "8c1040aa8cbb499c8372536e36a67990": {
          "model_module": "@jupyter-widgets/base",
          "model_name": "LayoutModel",
          "model_module_version": "1.2.0",
          "state": {
            "_model_module": "@jupyter-widgets/base",
            "_model_module_version": "1.2.0",
            "_model_name": "LayoutModel",
            "_view_count": null,
            "_view_module": "@jupyter-widgets/base",
            "_view_module_version": "1.2.0",
            "_view_name": "LayoutView",
            "align_content": null,
            "align_items": null,
            "align_self": null,
            "border": null,
            "bottom": null,
            "display": null,
            "flex": null,
            "flex_flow": null,
            "grid_area": null,
            "grid_auto_columns": null,
            "grid_auto_flow": null,
            "grid_auto_rows": null,
            "grid_column": null,
            "grid_gap": null,
            "grid_row": null,
            "grid_template_areas": null,
            "grid_template_columns": null,
            "grid_template_rows": null,
            "height": "18px",
            "justify_content": null,
            "justify_items": null,
            "left": null,
            "margin": null,
            "max_height": null,
            "max_width": null,
            "min_height": null,
            "min_width": null,
            "object_fit": null,
            "object_position": null,
            "order": null,
            "overflow": null,
            "overflow_x": null,
            "overflow_y": null,
            "padding": "0px 4px 25px 4px",
            "right": null,
            "top": null,
            "visibility": null,
            "width": "30ex"
          }
        },
        "68f1c89e977140ccafc2a798c3f1eff5": {
          "model_module": "@jupyter-widgets/controls",
          "model_name": "DescriptionStyleModel",
          "model_module_version": "1.5.0",
          "state": {
            "_model_module": "@jupyter-widgets/controls",
            "_model_module_version": "1.5.0",
            "_model_name": "DescriptionStyleModel",
            "_view_count": null,
            "_view_module": "@jupyter-widgets/base",
            "_view_module_version": "1.2.0",
            "_view_name": "StyleView",
            "description_width": ""
          }
        },
        "8537d8c113e54197b26e05445788b9ac": {
          "model_module": "@jupyter-widgets/controls",
          "model_name": "CheckboxModel",
          "model_module_version": "1.5.0",
          "state": {
            "_dom_classes": [],
            "_model_module": "@jupyter-widgets/controls",
            "_model_module_version": "1.5.0",
            "_model_name": "CheckboxModel",
            "_view_count": null,
            "_view_module": "@jupyter-widgets/controls",
            "_view_module_version": "1.5.0",
            "_view_name": "CheckboxView",
            "description": "Esri.WorldImagery",
            "description_tooltip": null,
            "disabled": false,
            "indent": false,
            "layout": "IPY_MODEL_bee182184f7e4904811bff58d46267f4",
            "style": "IPY_MODEL_1e89d621c04241a694e612fcaf16f1cf",
            "value": true
          }
        },
        "ed95c656160b4f39a595aafc0f954f65": {
          "model_module": "@jupyter-widgets/controls",
          "model_name": "FloatSliderModel",
          "model_module_version": "1.5.0",
          "state": {
            "_dom_classes": [],
            "_model_module": "@jupyter-widgets/controls",
            "_model_module_version": "1.5.0",
            "_model_name": "FloatSliderModel",
            "_view_count": null,
            "_view_module": "@jupyter-widgets/controls",
            "_view_module_version": "1.5.0",
            "_view_name": "FloatSliderView",
            "continuous_update": true,
            "description": "",
            "description_tooltip": null,
            "disabled": false,
            "layout": "IPY_MODEL_515e5e85718a48cfbbd85023c8152315",
            "max": 1,
            "min": 0,
            "orientation": "horizontal",
            "readout": false,
            "readout_format": ".2f",
            "step": 0.01,
            "style": "IPY_MODEL_ecee180596484149aba4a527ec637b7a",
            "value": 1
          }
        },
        "27395378b8204e56a595182d793f4830": {
          "model_module": "@jupyter-widgets/controls",
          "model_name": "ButtonModel",
          "model_module_version": "1.5.0",
          "state": {
            "_dom_classes": [],
            "_model_module": "@jupyter-widgets/controls",
            "_model_module_version": "1.5.0",
            "_model_name": "ButtonModel",
            "_view_count": null,
            "_view_module": "@jupyter-widgets/controls",
            "_view_module_version": "1.5.0",
            "_view_name": "ButtonView",
            "button_style": "",
            "description": "",
            "disabled": false,
            "icon": "gear",
            "layout": "IPY_MODEL_f71230793ab64eb8ae1729bb6a4750ce",
            "style": "IPY_MODEL_6b8e695c628340ae9ad9d5e9637facf1",
            "tooltip": "Esri.WorldImagery"
          }
        },
        "04f96fd808364a488d8bff9b93e2f2d5": {
          "model_module": "@jupyter-widgets/controls",
          "model_name": "ButtonModel",
          "model_module_version": "1.5.0",
          "state": {
            "_dom_classes": [],
            "_model_module": "@jupyter-widgets/controls",
            "_model_module_version": "1.5.0",
            "_model_name": "ButtonModel",
            "_view_count": null,
            "_view_module": "@jupyter-widgets/controls",
            "_view_module_version": "1.5.0",
            "_view_name": "ButtonView",
            "button_style": "",
            "description": "",
            "disabled": false,
            "icon": "times",
            "layout": "IPY_MODEL_b873006130d5428192c571028baf4f34",
            "style": "IPY_MODEL_5dbb4601c58b435c86a21290e3321edc",
            "tooltip": "Loaded"
          }
        },
        "bd790bf8c6b247cf9f9a62f5c255474a": {
          "model_module": "@jupyter-widgets/base",
          "model_name": "LayoutModel",
          "model_module_version": "1.2.0",
          "state": {
            "_model_module": "@jupyter-widgets/base",
            "_model_module_version": "1.2.0",
            "_model_name": "LayoutModel",
            "_view_count": null,
            "_view_module": "@jupyter-widgets/base",
            "_view_module_version": "1.2.0",
            "_view_name": "LayoutView",
            "align_content": null,
            "align_items": null,
            "align_self": null,
            "border": null,
            "bottom": null,
            "display": null,
            "flex": null,
            "flex_flow": null,
            "grid_area": null,
            "grid_auto_columns": null,
            "grid_auto_flow": null,
            "grid_auto_rows": null,
            "grid_column": null,
            "grid_gap": null,
            "grid_row": null,
            "grid_template_areas": null,
            "grid_template_columns": null,
            "grid_template_rows": null,
            "height": null,
            "justify_content": null,
            "justify_items": null,
            "left": null,
            "margin": null,
            "max_height": null,
            "max_width": null,
            "min_height": null,
            "min_width": null,
            "object_fit": null,
            "object_position": null,
            "order": null,
            "overflow": null,
            "overflow_x": null,
            "overflow_y": null,
            "padding": "0px 4px 0px 4px",
            "right": null,
            "top": null,
            "visibility": null,
            "width": null
          }
        },
        "5b9dde1fb8444c75abb087893d3dd13c": {
          "model_module": "@jupyter-widgets/controls",
          "model_name": "CheckboxModel",
          "model_module_version": "1.5.0",
          "state": {
            "_dom_classes": [],
            "_model_module": "@jupyter-widgets/controls",
            "_model_module_version": "1.5.0",
            "_model_name": "CheckboxModel",
            "_view_count": null,
            "_view_module": "@jupyter-widgets/controls",
            "_view_module_version": "1.5.0",
            "_view_name": "CheckboxView",
            "description": "NDSI 2025",
            "description_tooltip": null,
            "disabled": false,
            "indent": false,
            "layout": "IPY_MODEL_9b30c383776a416bbdc4c2262b45cb69",
            "style": "IPY_MODEL_d6cf279410e94c56af25697503b0b47f",
            "value": true
          }
        },
        "9000113c23154454aaf45de60bcd9fd2": {
          "model_module": "@jupyter-widgets/controls",
          "model_name": "FloatSliderModel",
          "model_module_version": "1.5.0",
          "state": {
            "_dom_classes": [],
            "_model_module": "@jupyter-widgets/controls",
            "_model_module_version": "1.5.0",
            "_model_name": "FloatSliderModel",
            "_view_count": null,
            "_view_module": "@jupyter-widgets/controls",
            "_view_module_version": "1.5.0",
            "_view_name": "FloatSliderView",
            "continuous_update": true,
            "description": "",
            "description_tooltip": null,
            "disabled": false,
            "layout": "IPY_MODEL_7f55ecd30af542419a62cb14d9e76882",
            "max": 1,
            "min": 0,
            "orientation": "horizontal",
            "readout": false,
            "readout_format": ".2f",
            "step": 0.01,
            "style": "IPY_MODEL_e822726f06504b63a5a86caae8e50d65",
            "value": 1
          }
        },
        "0d1eb65210064cabacc0dc411cee6a01": {
          "model_module": "@jupyter-widgets/controls",
          "model_name": "ButtonModel",
          "model_module_version": "1.5.0",
          "state": {
            "_dom_classes": [],
            "_model_module": "@jupyter-widgets/controls",
            "_model_module_version": "1.5.0",
            "_model_name": "ButtonModel",
            "_view_count": null,
            "_view_module": "@jupyter-widgets/controls",
            "_view_module_version": "1.5.0",
            "_view_name": "ButtonView",
            "button_style": "",
            "description": "",
            "disabled": false,
            "icon": "gear",
            "layout": "IPY_MODEL_f6b0ecd8897944f4acb6559990255847",
            "style": "IPY_MODEL_0a9bb0941f20499e9a14a898665fb4ea",
            "tooltip": "NDSI 2025"
          }
        },
        "9c283eb8225b4ad9b90206714d2e4681": {
          "model_module": "@jupyter-widgets/controls",
          "model_name": "ButtonModel",
          "model_module_version": "1.5.0",
          "state": {
            "_dom_classes": [],
            "_model_module": "@jupyter-widgets/controls",
            "_model_module_version": "1.5.0",
            "_model_name": "ButtonModel",
            "_view_count": null,
            "_view_module": "@jupyter-widgets/controls",
            "_view_module_version": "1.5.0",
            "_view_name": "ButtonView",
            "button_style": "",
            "description": "",
            "disabled": false,
            "icon": "times",
            "layout": "IPY_MODEL_08fb8b49af814cd19bb3c1bc26fadf93",
            "style": "IPY_MODEL_9da3cf0e79c54157bb2330e533a143a7",
            "tooltip": "Loaded"
          }
        },
        "e0f5ee86c54a41589c17ce190424554c": {
          "model_module": "@jupyter-widgets/base",
          "model_name": "LayoutModel",
          "model_module_version": "1.2.0",
          "state": {
            "_model_module": "@jupyter-widgets/base",
            "_model_module_version": "1.2.0",
            "_model_name": "LayoutModel",
            "_view_count": null,
            "_view_module": "@jupyter-widgets/base",
            "_view_module_version": "1.2.0",
            "_view_name": "LayoutView",
            "align_content": null,
            "align_items": null,
            "align_self": null,
            "border": null,
            "bottom": null,
            "display": null,
            "flex": null,
            "flex_flow": null,
            "grid_area": null,
            "grid_auto_columns": null,
            "grid_auto_flow": null,
            "grid_auto_rows": null,
            "grid_column": null,
            "grid_gap": null,
            "grid_row": null,
            "grid_template_areas": null,
            "grid_template_columns": null,
            "grid_template_rows": null,
            "height": null,
            "justify_content": null,
            "justify_items": null,
            "left": null,
            "margin": null,
            "max_height": null,
            "max_width": null,
            "min_height": null,
            "min_width": null,
            "object_fit": null,
            "object_position": null,
            "order": null,
            "overflow": null,
            "overflow_x": null,
            "overflow_y": null,
            "padding": "0px 4px 0px 4px",
            "right": null,
            "top": null,
            "visibility": null,
            "width": null
          }
        },
        "bee182184f7e4904811bff58d46267f4": {
          "model_module": "@jupyter-widgets/base",
          "model_name": "LayoutModel",
          "model_module_version": "1.2.0",
          "state": {
            "_model_module": "@jupyter-widgets/base",
            "_model_module_version": "1.2.0",
            "_model_name": "LayoutModel",
            "_view_count": null,
            "_view_module": "@jupyter-widgets/base",
            "_view_module_version": "1.2.0",
            "_view_name": "LayoutView",
            "align_content": null,
            "align_items": null,
            "align_self": null,
            "border": null,
            "bottom": null,
            "display": null,
            "flex": null,
            "flex_flow": null,
            "grid_area": null,
            "grid_auto_columns": null,
            "grid_auto_flow": null,
            "grid_auto_rows": null,
            "grid_column": null,
            "grid_gap": null,
            "grid_row": null,
            "grid_template_areas": null,
            "grid_template_columns": null,
            "grid_template_rows": null,
            "height": "18px",
            "justify_content": null,
            "justify_items": null,
            "left": null,
            "margin": null,
            "max_height": null,
            "max_width": null,
            "min_height": null,
            "min_width": null,
            "object_fit": null,
            "object_position": null,
            "order": null,
            "overflow": null,
            "overflow_x": null,
            "overflow_y": null,
            "padding": null,
            "right": null,
            "top": null,
            "visibility": null,
            "width": "140px"
          }
        },
        "1e89d621c04241a694e612fcaf16f1cf": {
          "model_module": "@jupyter-widgets/controls",
          "model_name": "DescriptionStyleModel",
          "model_module_version": "1.5.0",
          "state": {
            "_model_module": "@jupyter-widgets/controls",
            "_model_module_version": "1.5.0",
            "_model_name": "DescriptionStyleModel",
            "_view_count": null,
            "_view_module": "@jupyter-widgets/base",
            "_view_module_version": "1.2.0",
            "_view_name": "StyleView",
            "description_width": ""
          }
        },
        "515e5e85718a48cfbbd85023c8152315": {
          "model_module": "@jupyter-widgets/base",
          "model_name": "LayoutModel",
          "model_module_version": "1.2.0",
          "state": {
            "_model_module": "@jupyter-widgets/base",
            "_model_module_version": "1.2.0",
            "_model_name": "LayoutModel",
            "_view_count": null,
            "_view_module": "@jupyter-widgets/base",
            "_view_module_version": "1.2.0",
            "_view_name": "LayoutView",
            "align_content": null,
            "align_items": null,
            "align_self": null,
            "border": null,
            "bottom": null,
            "display": null,
            "flex": null,
            "flex_flow": null,
            "grid_area": null,
            "grid_auto_columns": null,
            "grid_auto_flow": null,
            "grid_auto_rows": null,
            "grid_column": null,
            "grid_gap": null,
            "grid_row": null,
            "grid_template_areas": null,
            "grid_template_columns": null,
            "grid_template_rows": null,
            "height": null,
            "justify_content": null,
            "justify_items": null,
            "left": null,
            "margin": null,
            "max_height": null,
            "max_width": null,
            "min_height": null,
            "min_width": null,
            "object_fit": null,
            "object_position": null,
            "order": null,
            "overflow": null,
            "overflow_x": null,
            "overflow_y": null,
            "padding": "0px 3px 0px 0px",
            "right": null,
            "top": null,
            "visibility": null,
            "width": "70px"
          }
        },
        "ecee180596484149aba4a527ec637b7a": {
          "model_module": "@jupyter-widgets/controls",
          "model_name": "SliderStyleModel",
          "model_module_version": "1.5.0",
          "state": {
            "_model_module": "@jupyter-widgets/controls",
            "_model_module_version": "1.5.0",
            "_model_name": "SliderStyleModel",
            "_view_count": null,
            "_view_module": "@jupyter-widgets/base",
            "_view_module_version": "1.2.0",
            "_view_name": "StyleView",
            "description_width": "",
            "handle_color": null
          }
        },
        "f71230793ab64eb8ae1729bb6a4750ce": {
          "model_module": "@jupyter-widgets/base",
          "model_name": "LayoutModel",
          "model_module_version": "1.2.0",
          "state": {
            "_model_module": "@jupyter-widgets/base",
            "_model_module_version": "1.2.0",
            "_model_name": "LayoutModel",
            "_view_count": null,
            "_view_module": "@jupyter-widgets/base",
            "_view_module_version": "1.2.0",
            "_view_name": "LayoutView",
            "align_content": null,
            "align_items": null,
            "align_self": null,
            "border": null,
            "bottom": null,
            "display": null,
            "flex": null,
            "flex_flow": null,
            "grid_area": null,
            "grid_auto_columns": null,
            "grid_auto_flow": null,
            "grid_auto_rows": null,
            "grid_column": null,
            "grid_gap": null,
            "grid_row": null,
            "grid_template_areas": null,
            "grid_template_columns": null,
            "grid_template_rows": null,
            "height": "25px",
            "justify_content": null,
            "justify_items": null,
            "left": null,
            "margin": null,
            "max_height": null,
            "max_width": null,
            "min_height": null,
            "min_width": null,
            "object_fit": null,
            "object_position": null,
            "order": null,
            "overflow": null,
            "overflow_x": null,
            "overflow_y": null,
            "padding": "0px",
            "right": null,
            "top": null,
            "visibility": null,
            "width": "25px"
          }
        },
        "6b8e695c628340ae9ad9d5e9637facf1": {
          "model_module": "@jupyter-widgets/controls",
          "model_name": "ButtonStyleModel",
          "model_module_version": "1.5.0",
          "state": {
            "_model_module": "@jupyter-widgets/controls",
            "_model_module_version": "1.5.0",
            "_model_name": "ButtonStyleModel",
            "_view_count": null,
            "_view_module": "@jupyter-widgets/base",
            "_view_module_version": "1.2.0",
            "_view_name": "StyleView",
            "button_color": null,
            "font_weight": ""
          }
        },
        "b873006130d5428192c571028baf4f34": {
          "model_module": "@jupyter-widgets/base",
          "model_name": "LayoutModel",
          "model_module_version": "1.2.0",
          "state": {
            "_model_module": "@jupyter-widgets/base",
            "_model_module_version": "1.2.0",
            "_model_name": "LayoutModel",
            "_view_count": null,
            "_view_module": "@jupyter-widgets/base",
            "_view_module_version": "1.2.0",
            "_view_name": "LayoutView",
            "align_content": null,
            "align_items": null,
            "align_self": null,
            "border": null,
            "bottom": null,
            "display": null,
            "flex": null,
            "flex_flow": null,
            "grid_area": null,
            "grid_auto_columns": null,
            "grid_auto_flow": null,
            "grid_auto_rows": null,
            "grid_column": null,
            "grid_gap": null,
            "grid_row": null,
            "grid_template_areas": null,
            "grid_template_columns": null,
            "grid_template_rows": null,
            "height": "25px",
            "justify_content": null,
            "justify_items": null,
            "left": null,
            "margin": null,
            "max_height": null,
            "max_width": null,
            "min_height": null,
            "min_width": null,
            "object_fit": null,
            "object_position": null,
            "order": null,
            "overflow": null,
            "overflow_x": null,
            "overflow_y": null,
            "padding": "0px",
            "right": null,
            "top": null,
            "visibility": null,
            "width": "25px"
          }
        },
        "5dbb4601c58b435c86a21290e3321edc": {
          "model_module": "@jupyter-widgets/controls",
          "model_name": "ButtonStyleModel",
          "model_module_version": "1.5.0",
          "state": {
            "_model_module": "@jupyter-widgets/controls",
            "_model_module_version": "1.5.0",
            "_model_name": "ButtonStyleModel",
            "_view_count": null,
            "_view_module": "@jupyter-widgets/base",
            "_view_module_version": "1.2.0",
            "_view_name": "StyleView",
            "button_color": null,
            "font_weight": ""
          }
        },
        "9b30c383776a416bbdc4c2262b45cb69": {
          "model_module": "@jupyter-widgets/base",
          "model_name": "LayoutModel",
          "model_module_version": "1.2.0",
          "state": {
            "_model_module": "@jupyter-widgets/base",
            "_model_module_version": "1.2.0",
            "_model_name": "LayoutModel",
            "_view_count": null,
            "_view_module": "@jupyter-widgets/base",
            "_view_module_version": "1.2.0",
            "_view_name": "LayoutView",
            "align_content": null,
            "align_items": null,
            "align_self": null,
            "border": null,
            "bottom": null,
            "display": null,
            "flex": null,
            "flex_flow": null,
            "grid_area": null,
            "grid_auto_columns": null,
            "grid_auto_flow": null,
            "grid_auto_rows": null,
            "grid_column": null,
            "grid_gap": null,
            "grid_row": null,
            "grid_template_areas": null,
            "grid_template_columns": null,
            "grid_template_rows": null,
            "height": "18px",
            "justify_content": null,
            "justify_items": null,
            "left": null,
            "margin": null,
            "max_height": null,
            "max_width": null,
            "min_height": null,
            "min_width": null,
            "object_fit": null,
            "object_position": null,
            "order": null,
            "overflow": null,
            "overflow_x": null,
            "overflow_y": null,
            "padding": null,
            "right": null,
            "top": null,
            "visibility": null,
            "width": "140px"
          }
        },
        "d6cf279410e94c56af25697503b0b47f": {
          "model_module": "@jupyter-widgets/controls",
          "model_name": "DescriptionStyleModel",
          "model_module_version": "1.5.0",
          "state": {
            "_model_module": "@jupyter-widgets/controls",
            "_model_module_version": "1.5.0",
            "_model_name": "DescriptionStyleModel",
            "_view_count": null,
            "_view_module": "@jupyter-widgets/base",
            "_view_module_version": "1.2.0",
            "_view_name": "StyleView",
            "description_width": ""
          }
        },
        "7f55ecd30af542419a62cb14d9e76882": {
          "model_module": "@jupyter-widgets/base",
          "model_name": "LayoutModel",
          "model_module_version": "1.2.0",
          "state": {
            "_model_module": "@jupyter-widgets/base",
            "_model_module_version": "1.2.0",
            "_model_name": "LayoutModel",
            "_view_count": null,
            "_view_module": "@jupyter-widgets/base",
            "_view_module_version": "1.2.0",
            "_view_name": "LayoutView",
            "align_content": null,
            "align_items": null,
            "align_self": null,
            "border": null,
            "bottom": null,
            "display": null,
            "flex": null,
            "flex_flow": null,
            "grid_area": null,
            "grid_auto_columns": null,
            "grid_auto_flow": null,
            "grid_auto_rows": null,
            "grid_column": null,
            "grid_gap": null,
            "grid_row": null,
            "grid_template_areas": null,
            "grid_template_columns": null,
            "grid_template_rows": null,
            "height": null,
            "justify_content": null,
            "justify_items": null,
            "left": null,
            "margin": null,
            "max_height": null,
            "max_width": null,
            "min_height": null,
            "min_width": null,
            "object_fit": null,
            "object_position": null,
            "order": null,
            "overflow": null,
            "overflow_x": null,
            "overflow_y": null,
            "padding": "0px 3px 0px 0px",
            "right": null,
            "top": null,
            "visibility": null,
            "width": "70px"
          }
        },
        "e822726f06504b63a5a86caae8e50d65": {
          "model_module": "@jupyter-widgets/controls",
          "model_name": "SliderStyleModel",
          "model_module_version": "1.5.0",
          "state": {
            "_model_module": "@jupyter-widgets/controls",
            "_model_module_version": "1.5.0",
            "_model_name": "SliderStyleModel",
            "_view_count": null,
            "_view_module": "@jupyter-widgets/base",
            "_view_module_version": "1.2.0",
            "_view_name": "StyleView",
            "description_width": "",
            "handle_color": null
          }
        },
        "f6b0ecd8897944f4acb6559990255847": {
          "model_module": "@jupyter-widgets/base",
          "model_name": "LayoutModel",
          "model_module_version": "1.2.0",
          "state": {
            "_model_module": "@jupyter-widgets/base",
            "_model_module_version": "1.2.0",
            "_model_name": "LayoutModel",
            "_view_count": null,
            "_view_module": "@jupyter-widgets/base",
            "_view_module_version": "1.2.0",
            "_view_name": "LayoutView",
            "align_content": null,
            "align_items": null,
            "align_self": null,
            "border": null,
            "bottom": null,
            "display": null,
            "flex": null,
            "flex_flow": null,
            "grid_area": null,
            "grid_auto_columns": null,
            "grid_auto_flow": null,
            "grid_auto_rows": null,
            "grid_column": null,
            "grid_gap": null,
            "grid_row": null,
            "grid_template_areas": null,
            "grid_template_columns": null,
            "grid_template_rows": null,
            "height": "25px",
            "justify_content": null,
            "justify_items": null,
            "left": null,
            "margin": null,
            "max_height": null,
            "max_width": null,
            "min_height": null,
            "min_width": null,
            "object_fit": null,
            "object_position": null,
            "order": null,
            "overflow": null,
            "overflow_x": null,
            "overflow_y": null,
            "padding": "0px",
            "right": null,
            "top": null,
            "visibility": null,
            "width": "25px"
          }
        },
        "0a9bb0941f20499e9a14a898665fb4ea": {
          "model_module": "@jupyter-widgets/controls",
          "model_name": "ButtonStyleModel",
          "model_module_version": "1.5.0",
          "state": {
            "_model_module": "@jupyter-widgets/controls",
            "_model_module_version": "1.5.0",
            "_model_name": "ButtonStyleModel",
            "_view_count": null,
            "_view_module": "@jupyter-widgets/base",
            "_view_module_version": "1.2.0",
            "_view_name": "StyleView",
            "button_color": null,
            "font_weight": ""
          }
        },
        "08fb8b49af814cd19bb3c1bc26fadf93": {
          "model_module": "@jupyter-widgets/base",
          "model_name": "LayoutModel",
          "model_module_version": "1.2.0",
          "state": {
            "_model_module": "@jupyter-widgets/base",
            "_model_module_version": "1.2.0",
            "_model_name": "LayoutModel",
            "_view_count": null,
            "_view_module": "@jupyter-widgets/base",
            "_view_module_version": "1.2.0",
            "_view_name": "LayoutView",
            "align_content": null,
            "align_items": null,
            "align_self": null,
            "border": null,
            "bottom": null,
            "display": null,
            "flex": null,
            "flex_flow": null,
            "grid_area": null,
            "grid_auto_columns": null,
            "grid_auto_flow": null,
            "grid_auto_rows": null,
            "grid_column": null,
            "grid_gap": null,
            "grid_row": null,
            "grid_template_areas": null,
            "grid_template_columns": null,
            "grid_template_rows": null,
            "height": "25px",
            "justify_content": null,
            "justify_items": null,
            "left": null,
            "margin": null,
            "max_height": null,
            "max_width": null,
            "min_height": null,
            "min_width": null,
            "object_fit": null,
            "object_position": null,
            "order": null,
            "overflow": null,
            "overflow_x": null,
            "overflow_y": null,
            "padding": "0px",
            "right": null,
            "top": null,
            "visibility": null,
            "width": "25px"
          }
        },
        "9da3cf0e79c54157bb2330e533a143a7": {
          "model_module": "@jupyter-widgets/controls",
          "model_name": "ButtonStyleModel",
          "model_module_version": "1.5.0",
          "state": {
            "_model_module": "@jupyter-widgets/controls",
            "_model_module_version": "1.5.0",
            "_model_name": "ButtonStyleModel",
            "_view_count": null,
            "_view_module": "@jupyter-widgets/base",
            "_view_module_version": "1.2.0",
            "_view_name": "StyleView",
            "button_color": null,
            "font_weight": ""
          }
        }
      }
    }
  },
  "cells": [
    {
      "cell_type": "markdown",
      "source": [],
      "metadata": {
        "id": "-ktncYfayyXI"
      }
    },
    {
      "cell_type": "markdown",
      "source": [
        "**Snow Cover Extent Change Northern Illinois**"
      ],
      "metadata": {
        "id": "0QIa_3V5jwzw"
      }
    },
    {
      "cell_type": "markdown",
      "source": [
        "This notebook imports landsat 8 data using google earth engine api, creates a mosaic of images from a chosen month, masks clouds, calculates NDSI, and creates a timeseries of snow extent for a select AOI."
      ],
      "metadata": {
        "id": "zMxDMS2ySVcB"
      }
    },
    {
      "cell_type": "code",
      "source": [
        "!pip install cartopy scipy"
      ],
      "metadata": {
        "colab": {
          "base_uri": "https://localhost:8080/",
          "height": 321
        },
        "id": "lOa4nGebNFUv",
        "outputId": "ec18394a-f089-4d6a-e32a-77b12eec71c4"
      },
      "execution_count": null,
      "outputs": [
        {
          "output_type": "display_data",
          "data": {
            "text/plain": [
              "<IPython.core.display.HTML object>"
            ],
            "text/html": [
              "\n",
              "            <style>\n",
              "                .geemap-dark {\n",
              "                    --jp-widgets-color: white;\n",
              "                    --jp-widgets-label-color: white;\n",
              "                    --jp-ui-font-color1: white;\n",
              "                    --jp-layout-color2: #454545;\n",
              "                    background-color: #383838;\n",
              "                }\n",
              "\n",
              "                .geemap-dark .jupyter-button {\n",
              "                    --jp-layout-color3: #383838;\n",
              "                }\n",
              "\n",
              "                .geemap-colab {\n",
              "                    background-color: var(--colab-primary-surface-color, white);\n",
              "                }\n",
              "\n",
              "                .geemap-colab .jupyter-button {\n",
              "                    --jp-layout-color3: var(--colab-primary-surface-color, white);\n",
              "                }\n",
              "            </style>\n",
              "            "
            ]
          },
          "metadata": {}
        },
        {
          "output_type": "stream",
          "name": "stdout",
          "text": [
            "Requirement already satisfied: cartopy in /usr/local/lib/python3.11/dist-packages (0.24.1)\n",
            "Requirement already satisfied: scipy in /usr/local/lib/python3.11/dist-packages (1.14.1)\n",
            "Requirement already satisfied: numpy>=1.23 in /usr/local/lib/python3.11/dist-packages (from cartopy) (2.0.2)\n",
            "Requirement already satisfied: matplotlib>=3.6 in /usr/local/lib/python3.11/dist-packages (from cartopy) (3.10.0)\n",
            "Requirement already satisfied: shapely>=1.8 in /usr/local/lib/python3.11/dist-packages (from cartopy) (2.0.7)\n",
            "Requirement already satisfied: packaging>=21 in /usr/local/lib/python3.11/dist-packages (from cartopy) (24.2)\n",
            "Requirement already satisfied: pyshp>=2.3 in /usr/local/lib/python3.11/dist-packages (from cartopy) (2.3.1)\n",
            "Requirement already satisfied: pyproj>=3.3.1 in /usr/local/lib/python3.11/dist-packages (from cartopy) (3.7.1)\n",
            "Requirement already satisfied: contourpy>=1.0.1 in /usr/local/lib/python3.11/dist-packages (from matplotlib>=3.6->cartopy) (1.3.1)\n",
            "Requirement already satisfied: cycler>=0.10 in /usr/local/lib/python3.11/dist-packages (from matplotlib>=3.6->cartopy) (0.12.1)\n",
            "Requirement already satisfied: fonttools>=4.22.0 in /usr/local/lib/python3.11/dist-packages (from matplotlib>=3.6->cartopy) (4.56.0)\n",
            "Requirement already satisfied: kiwisolver>=1.3.1 in /usr/local/lib/python3.11/dist-packages (from matplotlib>=3.6->cartopy) (1.4.8)\n",
            "Requirement already satisfied: pillow>=8 in /usr/local/lib/python3.11/dist-packages (from matplotlib>=3.6->cartopy) (11.1.0)\n",
            "Requirement already satisfied: pyparsing>=2.3.1 in /usr/local/lib/python3.11/dist-packages (from matplotlib>=3.6->cartopy) (3.2.3)\n",
            "Requirement already satisfied: python-dateutil>=2.7 in /usr/local/lib/python3.11/dist-packages (from matplotlib>=3.6->cartopy) (2.8.2)\n",
            "Requirement already satisfied: certifi in /usr/local/lib/python3.11/dist-packages (from pyproj>=3.3.1->cartopy) (2025.1.31)\n",
            "Requirement already satisfied: six>=1.5 in /usr/local/lib/python3.11/dist-packages (from python-dateutil>=2.7->matplotlib>=3.6->cartopy) (1.17.0)\n"
          ]
        }
      ]
    },
    {
      "cell_type": "code",
      "source": [
        "import ee\n",
        "import numpy as np\n",
        "import matplotlib.pyplot as plt\n",
        "import numpy as np\n",
        "import xarray as xr\n",
        "import geemap\n",
        "import pandas as pd\n",
        "from geemap import cartoee\n",
        "import os"
      ],
      "metadata": {
        "colab": {
          "base_uri": "https://localhost:8080/",
          "height": 17
        },
        "id": "tryc1LllSW60",
        "outputId": "8a810bdc-7f6d-4910-e534-b1dd27c6cb37"
      },
      "execution_count": null,
      "outputs": [
        {
          "output_type": "display_data",
          "data": {
            "text/plain": [
              "<IPython.core.display.HTML object>"
            ],
            "text/html": [
              "\n",
              "            <style>\n",
              "                .geemap-dark {\n",
              "                    --jp-widgets-color: white;\n",
              "                    --jp-widgets-label-color: white;\n",
              "                    --jp-ui-font-color1: white;\n",
              "                    --jp-layout-color2: #454545;\n",
              "                    background-color: #383838;\n",
              "                }\n",
              "\n",
              "                .geemap-dark .jupyter-button {\n",
              "                    --jp-layout-color3: #383838;\n",
              "                }\n",
              "\n",
              "                .geemap-colab {\n",
              "                    background-color: var(--colab-primary-surface-color, white);\n",
              "                }\n",
              "\n",
              "                .geemap-colab .jupyter-button {\n",
              "                    --jp-layout-color3: var(--colab-primary-surface-color, white);\n",
              "                }\n",
              "            </style>\n",
              "            "
            ]
          },
          "metadata": {}
        }
      ]
    },
    {
      "cell_type": "code",
      "source": [
        "# initialize google earth engine\n",
        "ee.Authenticate()\n",
        "ee.Initialize(project='ee-snowcovernil')\n",
        "geemap.ee_initialize()"
      ],
      "metadata": {
        "id": "FnCZll-9SZLn",
        "colab": {
          "base_uri": "https://localhost:8080/",
          "height": 17
        },
        "outputId": "c9e4af4e-22b1-4cb7-9c2f-2a38263d6b70"
      },
      "execution_count": null,
      "outputs": [
        {
          "output_type": "display_data",
          "data": {
            "text/plain": [
              "<IPython.core.display.HTML object>"
            ],
            "text/html": [
              "\n",
              "            <style>\n",
              "                .geemap-dark {\n",
              "                    --jp-widgets-color: white;\n",
              "                    --jp-widgets-label-color: white;\n",
              "                    --jp-ui-font-color1: white;\n",
              "                    --jp-layout-color2: #454545;\n",
              "                    background-color: #383838;\n",
              "                }\n",
              "\n",
              "                .geemap-dark .jupyter-button {\n",
              "                    --jp-layout-color3: #383838;\n",
              "                }\n",
              "\n",
              "                .geemap-colab {\n",
              "                    background-color: var(--colab-primary-surface-color, white);\n",
              "                }\n",
              "\n",
              "                .geemap-colab .jupyter-button {\n",
              "                    --jp-layout-color3: var(--colab-primary-surface-color, white);\n",
              "                }\n",
              "            </style>\n",
              "            "
            ]
          },
          "metadata": {}
        }
      ]
    },
    {
      "cell_type": "code",
      "source": [
        "# # set aoi geometry\n",
        "\n",
        "# # northern il\n",
        "# # aoi = ee.Geometry.Rectangle([-90.5, 41.5, -87.5, 42.5])\n",
        "\n",
        "# Set the Area of Interest (AOI) to Northern Illinois (can adjust for Illinois boundary)\n",
        "aoi = ee.FeatureCollection(\"TIGER/2018/States\").filter(ee.Filter.eq('NAME', 'Illinois'))"
      ],
      "metadata": {
        "id": "sThO8DvrTJKM",
        "colab": {
          "base_uri": "https://localhost:8080/",
          "height": 17
        },
        "outputId": "a0db9f47-3804-4bed-aa59-d0b9b8a7634e"
      },
      "execution_count": null,
      "outputs": [
        {
          "output_type": "display_data",
          "data": {
            "text/plain": [
              "<IPython.core.display.HTML object>"
            ],
            "text/html": [
              "\n",
              "            <style>\n",
              "                .geemap-dark {\n",
              "                    --jp-widgets-color: white;\n",
              "                    --jp-widgets-label-color: white;\n",
              "                    --jp-ui-font-color1: white;\n",
              "                    --jp-layout-color2: #454545;\n",
              "                    background-color: #383838;\n",
              "                }\n",
              "\n",
              "                .geemap-dark .jupyter-button {\n",
              "                    --jp-layout-color3: #383838;\n",
              "                }\n",
              "\n",
              "                .geemap-colab {\n",
              "                    background-color: var(--colab-primary-surface-color, white);\n",
              "                }\n",
              "\n",
              "                .geemap-colab .jupyter-button {\n",
              "                    --jp-layout-color3: var(--colab-primary-surface-color, white);\n",
              "                }\n",
              "            </style>\n",
              "            "
            ]
          },
          "metadata": {}
        }
      ]
    },
    {
      "cell_type": "code",
      "source": [
        "# Define the date range for January for every year\n",
        "start_year = 2014\n",
        "end_year = 2025"
      ],
      "metadata": {
        "id": "F9BOG1U1aXyh",
        "colab": {
          "base_uri": "https://localhost:8080/",
          "height": 17
        },
        "outputId": "81c469d2-60b7-4596-9d63-e84f5b219f40"
      },
      "execution_count": null,
      "outputs": [
        {
          "output_type": "display_data",
          "data": {
            "text/plain": [
              "<IPython.core.display.HTML object>"
            ],
            "text/html": [
              "\n",
              "            <style>\n",
              "                .geemap-dark {\n",
              "                    --jp-widgets-color: white;\n",
              "                    --jp-widgets-label-color: white;\n",
              "                    --jp-ui-font-color1: white;\n",
              "                    --jp-layout-color2: #454545;\n",
              "                    background-color: #383838;\n",
              "                }\n",
              "\n",
              "                .geemap-dark .jupyter-button {\n",
              "                    --jp-layout-color3: #383838;\n",
              "                }\n",
              "\n",
              "                .geemap-colab {\n",
              "                    background-color: var(--colab-primary-surface-color, white);\n",
              "                }\n",
              "\n",
              "                .geemap-colab .jupyter-button {\n",
              "                    --jp-layout-color3: var(--colab-primary-surface-color, white);\n",
              "                }\n",
              "            </style>\n",
              "            "
            ]
          },
          "metadata": {}
        }
      ]
    },
    {
      "cell_type": "code",
      "source": [
        "# Function to mask clouds based on the QA band\n",
        "def mask_clouds(image):\n",
        "    # Select the QA band\n",
        "    qa = image.select('QA_PIXEL')\n",
        "\n",
        "    # Bits 3 and 5 are cloud shadow and clouds, respectively\n",
        "    cloud_mask = qa.bitwiseAnd(1 << 3).eq(0).And(qa.bitwiseAnd(1 << 5).eq(0))\n",
        "\n",
        "    # Return the masked image, scaled to reflectance values\n",
        "    return image.updateMask(cloud_mask)"
      ],
      "metadata": {
        "id": "IBV2tVeKfO06",
        "colab": {
          "base_uri": "https://localhost:8080/",
          "height": 17
        },
        "outputId": "f33acc75-1a80-45de-d7a3-03e9c5b95e4c"
      },
      "execution_count": null,
      "outputs": [
        {
          "output_type": "display_data",
          "data": {
            "text/plain": [
              "<IPython.core.display.HTML object>"
            ],
            "text/html": [
              "\n",
              "            <style>\n",
              "                .geemap-dark {\n",
              "                    --jp-widgets-color: white;\n",
              "                    --jp-widgets-label-color: white;\n",
              "                    --jp-ui-font-color1: white;\n",
              "                    --jp-layout-color2: #454545;\n",
              "                    background-color: #383838;\n",
              "                }\n",
              "\n",
              "                .geemap-dark .jupyter-button {\n",
              "                    --jp-layout-color3: #383838;\n",
              "                }\n",
              "\n",
              "                .geemap-colab {\n",
              "                    background-color: var(--colab-primary-surface-color, white);\n",
              "                }\n",
              "\n",
              "                .geemap-colab .jupyter-button {\n",
              "                    --jp-layout-color3: var(--colab-primary-surface-color, white);\n",
              "                }\n",
              "            </style>\n",
              "            "
            ]
          },
          "metadata": {}
        }
      ]
    },
    {
      "cell_type": "code",
      "source": [
        "# # Filter Landsat 8 Collection\n",
        "\n",
        "# Function to mosaic images by year\n",
        "def mosaic_by_year(year):\n",
        "    # Filter the Landsat 8 Collection for January of the given year\n",
        "    start_date = ee.Date.fromYMD(year, 3, 1)\n",
        "    end_date = ee.Date.fromYMD(year, 4, 1)  # end of January\n",
        "\n",
        "    # Filter the Landsat collection and apply cloud mask\n",
        "    collection = (ee.ImageCollection(\"LANDSAT/LC08/C02/T1_L2\")\n",
        "                  .filterBounds(aoi)\n",
        "                  .filterDate(start_date, end_date)\n",
        "                  .map(mask_clouds))\n",
        "\n",
        "    # Check if the collection contains images\n",
        "    if collection.size().getInfo() == 0:\n",
        "        print(f\"No images found for year {year}\")\n",
        "        return None\n",
        "\n",
        "    # Mosaic the collection and clip to AOI\n",
        "    mosaic = collection.mosaic().clip(aoi)\n",
        "    return mosaic"
      ],
      "metadata": {
        "colab": {
          "base_uri": "https://localhost:8080/",
          "height": 17
        },
        "id": "ZlaqfWhqfRJW",
        "outputId": "37836eca-7fb5-43fe-fd7b-df1e172711c3"
      },
      "execution_count": null,
      "outputs": [
        {
          "output_type": "display_data",
          "data": {
            "text/plain": [
              "<IPython.core.display.HTML object>"
            ],
            "text/html": [
              "\n",
              "            <style>\n",
              "                .geemap-dark {\n",
              "                    --jp-widgets-color: white;\n",
              "                    --jp-widgets-label-color: white;\n",
              "                    --jp-ui-font-color1: white;\n",
              "                    --jp-layout-color2: #454545;\n",
              "                    background-color: #383838;\n",
              "                }\n",
              "\n",
              "                .geemap-dark .jupyter-button {\n",
              "                    --jp-layout-color3: #383838;\n",
              "                }\n",
              "\n",
              "                .geemap-colab {\n",
              "                    background-color: var(--colab-primary-surface-color, white);\n",
              "                }\n",
              "\n",
              "                .geemap-colab .jupyter-button {\n",
              "                    --jp-layout-color3: var(--colab-primary-surface-color, white);\n",
              "                }\n",
              "            </style>\n",
              "            "
            ]
          },
          "metadata": {}
        }
      ]
    },
    {
      "cell_type": "code",
      "source": [
        "# # calculate NDSI\n",
        "\n",
        "# Function to calculate NDSI\n",
        "def calc_ndsi(image):\n",
        "    ndsi = image.normalizedDifference(['SR_B3', 'SR_B6'])\n",
        "    return ndsi"
      ],
      "metadata": {
        "colab": {
          "base_uri": "https://localhost:8080/",
          "height": 17
        },
        "id": "ZzpVYBRphYk-",
        "outputId": "b83d3b72-53c3-4e10-81f5-4eaf6bcdec1d"
      },
      "execution_count": null,
      "outputs": [
        {
          "output_type": "display_data",
          "data": {
            "text/plain": [
              "<IPython.core.display.HTML object>"
            ],
            "text/html": [
              "\n",
              "            <style>\n",
              "                .geemap-dark {\n",
              "                    --jp-widgets-color: white;\n",
              "                    --jp-widgets-label-color: white;\n",
              "                    --jp-ui-font-color1: white;\n",
              "                    --jp-layout-color2: #454545;\n",
              "                    background-color: #383838;\n",
              "                }\n",
              "\n",
              "                .geemap-dark .jupyter-button {\n",
              "                    --jp-layout-color3: #383838;\n",
              "                }\n",
              "\n",
              "                .geemap-colab {\n",
              "                    background-color: var(--colab-primary-surface-color, white);\n",
              "                }\n",
              "\n",
              "                .geemap-colab .jupyter-button {\n",
              "                    --jp-layout-color3: var(--colab-primary-surface-color, white);\n",
              "                }\n",
              "            </style>\n",
              "            "
            ]
          },
          "metadata": {}
        }
      ]
    },
    {
      "cell_type": "code",
      "source": [
        "# Function to calculate snow-covered area (snow area where NDSI > 0.4)\n",
        "def calc_snow_area(ndsi_image):\n",
        "    snow_mask = ndsi_image.gt(0.4)\n",
        "    snow_area = snow_mask.multiply(ee.Image.pixelArea()).reduceRegion(\n",
        "        reducer=ee.Reducer.sum(), geometry=aoi, scale=30, maxPixels=1e9)\n",
        "\n",
        "    # convert area from sq m to sq km\n",
        "    snow_area_km2 = ee.Number(snow_area.get('nd')).divide(1e6)\n",
        "\n",
        "    return snow_area_km2\n",
        "    # return snow_area.get('nd')"
      ],
      "metadata": {
        "colab": {
          "base_uri": "https://localhost:8080/",
          "height": 17
        },
        "id": "y0XwIeYe44cq",
        "outputId": "b1cc8e76-6983-4513-f150-d4a9b7e79174"
      },
      "execution_count": null,
      "outputs": [
        {
          "output_type": "display_data",
          "data": {
            "text/plain": [
              "<IPython.core.display.HTML object>"
            ],
            "text/html": [
              "\n",
              "            <style>\n",
              "                .geemap-dark {\n",
              "                    --jp-widgets-color: white;\n",
              "                    --jp-widgets-label-color: white;\n",
              "                    --jp-ui-font-color1: white;\n",
              "                    --jp-layout-color2: #454545;\n",
              "                    background-color: #383838;\n",
              "                }\n",
              "\n",
              "                .geemap-dark .jupyter-button {\n",
              "                    --jp-layout-color3: #383838;\n",
              "                }\n",
              "\n",
              "                .geemap-colab {\n",
              "                    background-color: var(--colab-primary-surface-color, white);\n",
              "                }\n",
              "\n",
              "                .geemap-colab .jupyter-button {\n",
              "                    --jp-layout-color3: var(--colab-primary-surface-color, white);\n",
              "                }\n",
              "            </style>\n",
              "            "
            ]
          },
          "metadata": {}
        }
      ]
    },
    {
      "cell_type": "code",
      "source": [
        "# Calculate total snow-covered area for each year (in square kilometers)\n",
        "\n",
        "# Initialize lists to store the snow area for each year\n",
        "years = list(range(start_year, end_year + 1))\n",
        "snow_area_list = []\n",
        "\n",
        "# Loop through each year, calculate the snow area, and store it\n",
        "for year in years:\n",
        "    # Mosaic images for the given year and calculate NDSI\n",
        "    mosaic = mosaic_by_year(year)\n",
        "\n",
        "    # Check if a mosaic was created, skip if None\n",
        "    if mosaic is not None:\n",
        "        ndsi = calc_ndsi(mosaic)\n",
        "        # Calculate snow area for the given year\n",
        "        snow_area = calc_snow_area(ndsi)\n",
        "        snow_area_list.append(snow_area.getInfo())\n",
        "    else:\n",
        "        snow_area_list.append(None)\n",
        "\n",
        "# Create a DataFrame to store the snow area and years\n",
        "df = pd.DataFrame({'Year': years, 'Snow_Area_km2': snow_area_list})\n",
        "\n",
        "# Print the snow area data for each year\n",
        "print(df)"
      ],
      "metadata": {
        "colab": {
          "base_uri": "https://localhost:8080/",
          "height": 249
        },
        "id": "LFlYIZQd9yDC",
        "outputId": "0ceab2be-c8f7-41cb-e9b6-3db25db98e49"
      },
      "execution_count": null,
      "outputs": [
        {
          "output_type": "display_data",
          "data": {
            "text/plain": [
              "<IPython.core.display.HTML object>"
            ],
            "text/html": [
              "\n",
              "            <style>\n",
              "                .geemap-dark {\n",
              "                    --jp-widgets-color: white;\n",
              "                    --jp-widgets-label-color: white;\n",
              "                    --jp-ui-font-color1: white;\n",
              "                    --jp-layout-color2: #454545;\n",
              "                    background-color: #383838;\n",
              "                }\n",
              "\n",
              "                .geemap-dark .jupyter-button {\n",
              "                    --jp-layout-color3: #383838;\n",
              "                }\n",
              "\n",
              "                .geemap-colab {\n",
              "                    background-color: var(--colab-primary-surface-color, white);\n",
              "                }\n",
              "\n",
              "                .geemap-colab .jupyter-button {\n",
              "                    --jp-layout-color3: var(--colab-primary-surface-color, white);\n",
              "                }\n",
              "            </style>\n",
              "            "
            ]
          },
          "metadata": {}
        },
        {
          "output_type": "stream",
          "name": "stdout",
          "text": [
            "    Year  Snow_Area_km2\n",
            "0   2014    2774.337665\n",
            "1   2015     750.840373\n",
            "2   2016      87.174284\n",
            "3   2017    2687.384310\n",
            "4   2018      19.169496\n",
            "5   2019    2241.152325\n",
            "6   2020      77.511193\n",
            "7   2021    1164.908031\n",
            "8   2022     387.261188\n",
            "9   2023     240.302814\n",
            "10  2024      56.391068\n",
            "11  2025     518.677253\n"
          ]
        }
      ]
    },
    {
      "cell_type": "code",
      "source": [
        "# Mount Google Drive (if using Google Colab)\n",
        "from google.colab import drive\n",
        "drive.mount('/content/drive')"
      ],
      "metadata": {
        "colab": {
          "base_uri": "https://localhost:8080/",
          "height": 35
        },
        "id": "WghhNnwqmdQE",
        "outputId": "e7c436c3-a81b-4d76-b4be-fc7edd81bfaa"
      },
      "execution_count": null,
      "outputs": [
        {
          "output_type": "display_data",
          "data": {
            "text/plain": [
              "<IPython.core.display.HTML object>"
            ],
            "text/html": [
              "\n",
              "            <style>\n",
              "                .geemap-dark {\n",
              "                    --jp-widgets-color: white;\n",
              "                    --jp-widgets-label-color: white;\n",
              "                    --jp-ui-font-color1: white;\n",
              "                    --jp-layout-color2: #454545;\n",
              "                    background-color: #383838;\n",
              "                }\n",
              "\n",
              "                .geemap-dark .jupyter-button {\n",
              "                    --jp-layout-color3: #383838;\n",
              "                }\n",
              "\n",
              "                .geemap-colab {\n",
              "                    background-color: var(--colab-primary-surface-color, white);\n",
              "                }\n",
              "\n",
              "                .geemap-colab .jupyter-button {\n",
              "                    --jp-layout-color3: var(--colab-primary-surface-color, white);\n",
              "                }\n",
              "            </style>\n",
              "            "
            ]
          },
          "metadata": {}
        },
        {
          "output_type": "stream",
          "name": "stdout",
          "text": [
            "Drive already mounted at /content/drive; to attempt to forcibly remount, call drive.mount(\"/content/drive\", force_remount=True).\n"
          ]
        }
      ]
    },
    {
      "cell_type": "code",
      "source": [
        "# Plot the snow area time series\n",
        "plt.figure(figsize=(10, 6))\n",
        "plt.plot(df['Year'], df['Snow_Area_km2'], marker='o', color='b')\n",
        "plt.xlabel('Year')\n",
        "plt.ylabel('Snow-covered Area (km²)')\n",
        "plt.title('Snow-covered Area in Illinois - March')\n",
        "plt.xticks(range(start_year, end_year + 1))\n",
        "plt.grid(True)\n",
        "\n",
        "# Construct the full path to the folder in Google Drive\n",
        "folder_path = '/content/drive/My Drive/GEE_Exports/'  # Replace with your folder name\n",
        "file_name = 'snow_area_timeseries_mar.jpg'\n",
        "full_path = os.path.join(folder_path, file_name)\n",
        "\n",
        "plt.savefig(full_path)  # Save the plot to the specified path\n",
        "\n",
        "plt.show()"
      ],
      "metadata": {
        "colab": {
          "base_uri": "https://localhost:8080/",
          "height": 564
        },
        "id": "mu2I2BfW_-Qs",
        "outputId": "4f9ccce6-cdc6-4483-fe72-5515cdda86a8"
      },
      "execution_count": null,
      "outputs": [
        {
          "output_type": "display_data",
          "data": {
            "text/plain": [
              "<IPython.core.display.HTML object>"
            ],
            "text/html": [
              "\n",
              "            <style>\n",
              "                .geemap-dark {\n",
              "                    --jp-widgets-color: white;\n",
              "                    --jp-widgets-label-color: white;\n",
              "                    --jp-ui-font-color1: white;\n",
              "                    --jp-layout-color2: #454545;\n",
              "                    background-color: #383838;\n",
              "                }\n",
              "\n",
              "                .geemap-dark .jupyter-button {\n",
              "                    --jp-layout-color3: #383838;\n",
              "                }\n",
              "\n",
              "                .geemap-colab {\n",
              "                    background-color: var(--colab-primary-surface-color, white);\n",
              "                }\n",
              "\n",
              "                .geemap-colab .jupyter-button {\n",
              "                    --jp-layout-color3: var(--colab-primary-surface-color, white);\n",
              "                }\n",
              "            </style>\n",
              "            "
            ]
          },
          "metadata": {}
        },
        {
          "output_type": "display_data",
          "data": {
            "text/plain": [
              "<Figure size 1000x600 with 1 Axes>"
            ],
            "image/png": "[encoded data removed]"
          },
          "metadata": {}
        }
      ]
    },
    {
      "cell_type": "code",
      "source": [
        "# Define the function to create the NDSI collection\n",
        "def create_ndsi_collection2():\n",
        "    # Load the Landsat 8 collection, apply cloud mask, and calculate NDSI\n",
        "    collection2 = ee.ImageCollection(\"LANDSAT/LC08/C02/T1_L2\") \\\n",
        "                    .filterBounds(aoi) \\\n",
        "                    .map(mask_clouds) \\\n",
        "                    .map(calculate_ndsi2)\n",
        "    return collection2\n",
        "\n",
        "# Function to calculate NDSI (Normalized Difference Snow Index)\n",
        "def calculate_ndsi2(image2):\n",
        "    ndsi = image2.normalizedDifference(['SR_B3', 'SR_B6']).rename('NDSI')\n",
        "    return image2.addBands(ndsi)\n",
        "\n",
        "# def calculate_ndsi2(image2):\n",
        "#     ndsi = image2.expression(\n",
        "#         '(i.SR_B3 - i.SR_B6) / (i.SR_B3 + i.SR_B6)',  # NDSI formula\n",
        "#         {'i': image2}\n",
        "#     ).rename('NDSI')\n",
        "\n",
        "#     # Handle NaN values by replacing them with a specific value (e.g., -1)\n",
        "#     ndsi = ndsi.unmask(-1)\n",
        "\n",
        "#     return image2.addBands(ndsi)\n",
        "\n",
        "# Function to visualize a specific year's NDSI image\n",
        "def show_annual_ndsi2(year):\n",
        "    # Create the NDSI collection\n",
        "    ndsi_collection2 = create_ndsi_collection2()\n",
        "\n",
        "    # Filter the collection to the specified year and create a mosaic\n",
        "    year_start = ee.Date(f'{year}-01-01')\n",
        "    year_end = ee.Date(f'{year}-01-31')\n",
        "    annual_ndsi_image2 = (ndsi_collection2.filterDate(year_start, year_end)\n",
        "                         .select('NDSI')  # Select the NDSI band\n",
        "                         .mosaic()\n",
        "                         .clip(aoi))\n",
        "\n",
        "    # Use geemap to display the NDSI image\n",
        "    map = geemap.Map(basemap='HYBRID') #satellite basemap\n",
        "    map.addLayer(annual_ndsi_image2, {'min': -1, 'max': 1, 'palette': ['blue', 'white', 'green']}, f'NDSI {year}')\n",
        "    map.centerObject(aoi, 7)\n",
        "    map.addLayerControl()\n",
        "\n",
        "    # Add a colorbar to the map using geemap's built-in functionality\n",
        "    # This replaces the cartoee.add_colorbar which is not compatible with geemap.Map\n",
        "    map.add_colorbar(vis_params={'min': -1, 'max': 1, 'palette': ['blue', 'white', 'green']},\n",
        "                     label=\"NDSI\",\n",
        "                     orientation=\"vertical\",  # or \"horizontal\"\n",
        "                     layer_name=f'NDSI {year}') # Matches the layer name for clarity\n",
        "\n",
        "    # Return the map object to display it\n",
        "    return map  # Remove map.show() and just return the map object\n",
        "\n",
        "# Example: Show NDSI for 2018\n",
        "show_annual_ndsi2(2025) # Call the function to display the map"
      ],
      "metadata": {
        "colab": {
          "base_uri": "https://localhost:8080/",
          "height": 621,
          "referenced_widgets": [
            "43aa8cf1cbb84a8b833c7a560f47ab10",
            "f55fd77cc78e415f80a6fa75bd7c4359",
            "64cf9eb8c3504239ab031a6b4d97635a",
            "6caa82afa5d84aee970cd317ca547465",
            "a958f3279cfe4796b5bcbc44b7b749ab",
            "3678962a2e7c40b5ae721d004aabf663",
            "d028e1972b644230ba442c26d23a0e5b",
            "a266c870db994093ae6e4b64db2fe86d",
            "de50513ddb904bf690b4bc14df8608c0",
            "b193850dc87d43e0b565031837b7787c",
            "4bbfcf30fb26415eb8c76405d8a74612",
            "8e9cd3802cb34a92970a7d25638d1cee",
            "835146c1ece84648a965587db310207e",
            "947b31da34344943ba219f62dd6ccec9",
            "51516b475dde47c9a730a39b99bbf720",
            "a4cb0452dcb64fe0a901964e1ca18272",
            "715398106c874f659e2b33be9ec89828",
            "a4939563d0ce4b159618d921a9670e80",
            "9c33aec352324a4bb299e089f426e51f",
            "152c4308bbf14ea098bcf3df0e8d5498",
            "fec91fc7798343abba293ae09c1ff3b5",
            "a477f4fc97af42bea36e75e2d27bf6c8",
            "1cefca97fc51498ea9337c9a6c272de7",
            "14bfa5b8936c47b8a113ae2735a13c8b",
            "fb9dc0554e5c428fbca1bf8821b38ac0",
            "e3a044aa1e9a47038a39b6b1d4bc42ef",
            "8bb3769b43b2435bacfd1a4613da1d14",
            "04c908a4435242eb8432588b6432349b",
            "14575c3c119c47a696806054e5143155",
            "91eced2b5acc4c2b9ade18d5def4a522",
            "691ef99603b24cb4b511b27268101018",
            "bd7b618d3907469c98b20556aa289969",
            "64b772dd4cb44cb2a7360c96d89b5c17",
            "48cd239fa18e4a2a8359245ed265154f",
            "e3c394174b3d4916b3daed0abf74ec45",
            "b3ab9e753b42468e8858bf8e25581f02",
            "089c9df09be547f7858d799168a5e7bf",
            "e645267ff20d4124bccfd197f22c05b4",
            "da9574ffbabd441582f476cdfefaee06",
            "9b448fd91dfa49e39b43a58964dbfd39",
            "6d3483d21e3146cdad35bd97a54b09f7",
            "b12dd5be0fc2476a9d120bc5ba4eb451",
            "0439e3542fdf45269500673ab31eef8c",
            "13493d00b35c444984669a50a969a467",
            "cba53c8af7ce4a51a1073755530a41a7",
            "c841ac7bc0724bb19cee715807ec0c82",
            "3d3fb947f48c4f738ccf84085e749506",
            "f2630407dc0948fc9bc130f3ddec17c5",
            "088e6759bba148faad761f67008f409a",
            "fc57920754c9451c922a32d0e19582f7",
            "9b52ce39280a49faaaa0bb299c8384da",
            "8c1040aa8cbb499c8372536e36a67990",
            "68f1c89e977140ccafc2a798c3f1eff5",
            "8537d8c113e54197b26e05445788b9ac",
            "ed95c656160b4f39a595aafc0f954f65",
            "27395378b8204e56a595182d793f4830",
            "04f96fd808364a488d8bff9b93e2f2d5",
            "bd790bf8c6b247cf9f9a62f5c255474a",
            "5b9dde1fb8444c75abb087893d3dd13c",
            "9000113c23154454aaf45de60bcd9fd2",
            "0d1eb65210064cabacc0dc411cee6a01",
            "9c283eb8225b4ad9b90206714d2e4681",
            "e0f5ee86c54a41589c17ce190424554c",
            "bee182184f7e4904811bff58d46267f4",
            "1e89d621c04241a694e612fcaf16f1cf",
            "515e5e85718a48cfbbd85023c8152315",
            "ecee180596484149aba4a527ec637b7a",
            "f71230793ab64eb8ae1729bb6a4750ce",
            "6b8e695c628340ae9ad9d5e9637facf1",
            "b873006130d5428192c571028baf4f34",
            "5dbb4601c58b435c86a21290e3321edc",
            "9b30c383776a416bbdc4c2262b45cb69",
            "d6cf279410e94c56af25697503b0b47f",
            "7f55ecd30af542419a62cb14d9e76882",
            "e822726f06504b63a5a86caae8e50d65",
            "f6b0ecd8897944f4acb6559990255847",
            "0a9bb0941f20499e9a14a898665fb4ea",
            "08fb8b49af814cd19bb3c1bc26fadf93",
            "9da3cf0e79c54157bb2330e533a143a7"
          ]
        },
        "id": "yN9P0MruMMOH",
        "outputId": "1f869a5e-451d-4afb-c2d7-35dcf9b442fb"
      },
      "execution_count": null,
      "outputs": [
        {
          "output_type": "display_data",
          "data": {
            "text/plain": [
              "<IPython.core.display.HTML object>"
            ],
            "text/html": [
              "\n",
              "            <style>\n",
              "                .geemap-dark {\n",
              "                    --jp-widgets-color: white;\n",
              "                    --jp-widgets-label-color: white;\n",
              "                    --jp-ui-font-color1: white;\n",
              "                    --jp-layout-color2: #454545;\n",
              "                    background-color: #383838;\n",
              "                }\n",
              "\n",
              "                .geemap-dark .jupyter-button {\n",
              "                    --jp-layout-color3: #383838;\n",
              "                }\n",
              "\n",
              "                .geemap-colab {\n",
              "                    background-color: var(--colab-primary-surface-color, white);\n",
              "                }\n",
              "\n",
              "                .geemap-colab .jupyter-button {\n",
              "                    --jp-layout-color3: var(--colab-primary-surface-color, white);\n",
              "                }\n",
              "            </style>\n",
              "            "
            ]
          },
          "metadata": {}
        },
        {
          "output_type": "display_data",
          "data": {
            "text/plain": [
              "Map(center=[40.100277314394525, -89.14995333122563], controls=(WidgetControl(options=['position', 'transparent…"
            ],
            "application/vnd.jupyter.widget-view+json": {
              "version_major": 2,
              "version_minor": 0,
              "model_id": "43aa8cf1cbb84a8b833c7a560f47ab10"
            }
          },
          "metadata": {
            "application/vnd.jupyter.widget-view+json": {
              "colab": {
                "custom_widget_manager": {
                  "url": "https://ssl.gstatic.com/colaboratory-static/widgets/colab-cdn-widget-manager/2b70e893a8ba7c0f/manager.min.js"
                }
              }
            }
          }
        }
      ]
    },
    {
      "cell_type": "code",
      "source": [
        "# # Function to export NDSI images for multiple years to Google Drive\n",
        "# def export_annual_ndsi_images(start_year, end_year, folder='GEE_Exports'):\n",
        "#     for year in range(start_year, end_year + 1):\n",
        "#         # Create the NDSI collection\n",
        "#         ndsi_collection2 = create_ndsi_collection2()\n",
        "\n",
        "#         # Filter the collection to the specified year and create a mosaic\n",
        "#         year_start = ee.Date(f'{year}-01-01')\n",
        "#         year_end = ee.Date(f'{year}-01-31')\n",
        "#         annual_ndsi_image2 = (ndsi_collection2.filterDate(year_start, year_end)\n",
        "#                              .select('NDSI')  # Select the NDSI band\n",
        "#                              .mosaic()\n",
        "#                              .clip(aoi))\n",
        "\n",
        "#         # Export the image to Google Drive as JPG\n",
        "#         task = ee.batch.Export.image.toDrive(\n",
        "#             image=annual_ndsi_image2,\n",
        "#             description=f'NDSI_{year}',  # Set the description/filename\n",
        "#             scale=30,  # Adjust the scale as needed\n",
        "#             region=aoi.geometry(),  # Set the region to your AOI\n",
        "#             fileFormat='GeoTIFF',  # Change to your desired format if necessary\n",
        "#             folder=folder  # Specify a folder in your Google Drive\n",
        "#         )\n",
        "#         task.start()\n",
        "#         print(f'Exporting NDSI_{year} to Google Drive...')\n",
        "\n",
        "# export_annual_ndsi_images(2014,2015) # Call the function to export images for multiple years"
      ],
      "metadata": {
        "colab": {
          "base_uri": "https://localhost:8080/",
          "height": 17
        },
        "id": "uzqMS57TWv9f",
        "outputId": "e5367438-66ec-4007-f82f-d27f5dd5e8ae"
      },
      "execution_count": null,
      "outputs": [
        {
          "output_type": "display_data",
          "data": {
            "text/plain": [
              "<IPython.core.display.HTML object>"
            ],
            "text/html": [
              "\n",
              "            <style>\n",
              "                .geemap-dark {\n",
              "                    --jp-widgets-color: white;\n",
              "                    --jp-widgets-label-color: white;\n",
              "                    --jp-ui-font-color1: white;\n",
              "                    --jp-layout-color2: #454545;\n",
              "                    background-color: #383838;\n",
              "                }\n",
              "\n",
              "                .geemap-dark .jupyter-button {\n",
              "                    --jp-layout-color3: #383838;\n",
              "                }\n",
              "\n",
              "                .geemap-colab {\n",
              "                    background-color: var(--colab-primary-surface-color, white);\n",
              "                }\n",
              "\n",
              "                .geemap-colab .jupyter-button {\n",
              "                    --jp-layout-color3: var(--colab-primary-surface-color, white);\n",
              "                }\n",
              "            </style>\n",
              "            "
            ]
          },
          "metadata": {}
        }
      ]
    },
    {
      "cell_type": "code",
      "source": [
        "# Get the area of Illinois in square kilometers\n",
        "illinois_area = aoi.geometry().area().divide(1e6).getInfo()  # Convert to sq km"
      ],
      "metadata": {
        "colab": {
          "base_uri": "https://localhost:8080/",
          "height": 17
        },
        "id": "mYTGxLoltqGw",
        "outputId": "f2ab9fb6-2ac5-454a-ca3f-fc86cbf27f09"
      },
      "execution_count": null,
      "outputs": [
        {
          "output_type": "display_data",
          "data": {
            "text/plain": [
              "<IPython.core.display.HTML object>"
            ],
            "text/html": [
              "\n",
              "            <style>\n",
              "                .geemap-dark {\n",
              "                    --jp-widgets-color: white;\n",
              "                    --jp-widgets-label-color: white;\n",
              "                    --jp-ui-font-color1: white;\n",
              "                    --jp-layout-color2: #454545;\n",
              "                    background-color: #383838;\n",
              "                }\n",
              "\n",
              "                .geemap-dark .jupyter-button {\n",
              "                    --jp-layout-color3: #383838;\n",
              "                }\n",
              "\n",
              "                .geemap-colab {\n",
              "                    background-color: var(--colab-primary-surface-color, white);\n",
              "                }\n",
              "\n",
              "                .geemap-colab .jupyter-button {\n",
              "                    --jp-layout-color3: var(--colab-primary-surface-color, white);\n",
              "                }\n",
              "            </style>\n",
              "            "
            ]
          },
          "metadata": {}
        }
      ]
    },
    {
      "cell_type": "code",
      "source": [
        "# Calculate percentage snow cover for each year\n",
        "df['Snow_Cover_Percentage'] = (df['Snow_Area_km2'] / illinois_area) * 100"
      ],
      "metadata": {
        "colab": {
          "base_uri": "https://localhost:8080/",
          "height": 17
        },
        "id": "ym2DPoP6ts8a",
        "outputId": "9f8dec33-cbd3-49ae-b8d5-b704255e0da5"
      },
      "execution_count": null,
      "outputs": [
        {
          "output_type": "display_data",
          "data": {
            "text/plain": [
              "<IPython.core.display.HTML object>"
            ],
            "text/html": [
              "\n",
              "            <style>\n",
              "                .geemap-dark {\n",
              "                    --jp-widgets-color: white;\n",
              "                    --jp-widgets-label-color: white;\n",
              "                    --jp-ui-font-color1: white;\n",
              "                    --jp-layout-color2: #454545;\n",
              "                    background-color: #383838;\n",
              "                }\n",
              "\n",
              "                .geemap-dark .jupyter-button {\n",
              "                    --jp-layout-color3: #383838;\n",
              "                }\n",
              "\n",
              "                .geemap-colab {\n",
              "                    background-color: var(--colab-primary-surface-color, white);\n",
              "                }\n",
              "\n",
              "                .geemap-colab .jupyter-button {\n",
              "                    --jp-layout-color3: var(--colab-primary-surface-color, white);\n",
              "                }\n",
              "            </style>\n",
              "            "
            ]
          },
          "metadata": {}
        }
      ]
    },
    {
      "cell_type": "code",
      "source": [
        "# Plot the percentage snow cover time series\n",
        "plt.figure(figsize=(10, 6))\n",
        "plt.plot(df['Year'], df['Snow_Cover_Percentage'], marker='o', color='g') # Changed color to green\n",
        "plt.xlabel('Year')\n",
        "plt.ylabel('Snow Cover Percentage (%)')\n",
        "plt.title('Percentage of Snow Cover in Illinois - March')\n",
        "plt.xticks(range(start_year, end_year + 1))\n",
        "plt.grid(True)\n",
        "\n",
        "# Construct the full path for saving the plot\n",
        "file_name = 'snow_cover_percentage_timeseries_mar.jpg'  # New filename\n",
        "full_path = os.path.join(folder_path, file_name)\n",
        "\n",
        "plt.savefig(full_path)\n",
        "plt.show()"
      ],
      "metadata": {
        "colab": {
          "base_uri": "https://localhost:8080/",
          "height": 564
        },
        "id": "lujDwBP_tx3R",
        "outputId": "54b7730f-bed5-4bca-969e-bd09282fa529"
      },
      "execution_count": null,
      "outputs": [
        {
          "output_type": "display_data",
          "data": {
            "text/plain": [
              "<IPython.core.display.HTML object>"
            ],
            "text/html": [
              "\n",
              "            <style>\n",
              "                .geemap-dark {\n",
              "                    --jp-widgets-color: white;\n",
              "                    --jp-widgets-label-color: white;\n",
              "                    --jp-ui-font-color1: white;\n",
              "                    --jp-layout-color2: #454545;\n",
              "                    background-color: #383838;\n",
              "                }\n",
              "\n",
              "                .geemap-dark .jupyter-button {\n",
              "                    --jp-layout-color3: #383838;\n",
              "                }\n",
              "\n",
              "                .geemap-colab {\n",
              "                    background-color: var(--colab-primary-surface-color, white);\n",
              "                }\n",
              "\n",
              "                .geemap-colab .jupyter-button {\n",
              "                    --jp-layout-color3: var(--colab-primary-surface-color, white);\n",
              "                }\n",
              "            </style>\n",
              "            "
            ]
          },
          "metadata": {}
        },
        {
          "output_type": "display_data",
          "data": {
            "text/plain": [
              "<Figure size 1000x600 with 1 Axes>"
            ],
            "image/png": "[encoded data removed]"
          },
          "metadata": {}
        }
      ]
    }
  ]
}